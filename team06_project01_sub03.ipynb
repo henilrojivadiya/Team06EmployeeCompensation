{
 "cells": [
  {
   "cell_type": "markdown",
   "id": "vPeQsrDpWpug",
   "metadata": {
    "id": "vPeQsrDpWpug"
   },
   "source": [
    "**Import packages that are required for project**"
   ]
  },
  {
   "cell_type": "code",
   "execution_count": null,
   "id": "c6f55100",
   "metadata": {
    "id": "c6f55100"
   },
   "outputs": [],
   "source": [
    "import numpy as np\n",
    "import pandas as pd\n",
    "import matplotlib.pyplot as plt\n",
    "import seaborn as sns\n",
    "import plotly.express as px\n",
    "from scipy import stats"
   ]
  },
  {
   "cell_type": "markdown",
   "id": "xRZLEetUWyKJ",
   "metadata": {
    "id": "xRZLEetUWyKJ"
   },
   "source": [
    "**mount Google Drive and read the dataset**"
   ]
  },
  {
   "cell_type": "code",
   "execution_count": null,
   "id": "f88d7031",
   "metadata": {
    "colab": {
     "base_uri": "https://localhost:8080/",
     "height": 1000
    },
    "executionInfo": {
     "elapsed": 4023,
     "status": "ok",
     "timestamp": 1681523621062,
     "user": {
      "displayName": "Srinu Venuvanka",
      "userId": "07818478530935474505"
     },
     "user_tz": 240
    },
    "id": "f88d7031",
    "outputId": "4c33ccdb-8392-4418-d7bf-82a990e579e7"
   },
   "outputs": [
    {
     "name": "stdout",
     "output_type": "stream",
     "text": [
      "Drive already mounted at /content/drive; to attempt to forcibly remount, call drive.mount(\"/content/drive\", force_remount=True).\n"
     ]
    },
    {
     "data": {
      "text/html": [
       "\n",
       "  <div id=\"df-b7990de7-07ed-4d4c-b84f-567001c19151\">\n",
       "    <div class=\"colab-df-container\">\n",
       "      <div>\n",
       "<style scoped>\n",
       "    .dataframe tbody tr th:only-of-type {\n",
       "        vertical-align: middle;\n",
       "    }\n",
       "\n",
       "    .dataframe tbody tr th {\n",
       "        vertical-align: top;\n",
       "    }\n",
       "\n",
       "    .dataframe thead th {\n",
       "        text-align: right;\n",
       "    }\n",
       "</style>\n",
       "<table border=\"1\" class=\"dataframe\">\n",
       "  <thead>\n",
       "    <tr style=\"text-align: right;\">\n",
       "      <th></th>\n",
       "      <th>Organization Group Code</th>\n",
       "      <th>Job Family Code</th>\n",
       "      <th>Job Code</th>\n",
       "      <th>Year Type</th>\n",
       "      <th>Year</th>\n",
       "      <th>Organization Group</th>\n",
       "      <th>Department Code</th>\n",
       "      <th>Department</th>\n",
       "      <th>Union Code</th>\n",
       "      <th>Union</th>\n",
       "      <th>...</th>\n",
       "      <th>Employee Identifier</th>\n",
       "      <th>Salaries</th>\n",
       "      <th>Overtime</th>\n",
       "      <th>Other Salaries</th>\n",
       "      <th>Total Salary</th>\n",
       "      <th>Retirement</th>\n",
       "      <th>Health and Dental</th>\n",
       "      <th>Other Benefits</th>\n",
       "      <th>Total Benefits</th>\n",
       "      <th>Total Compensation</th>\n",
       "    </tr>\n",
       "  </thead>\n",
       "  <tbody>\n",
       "    <tr>\n",
       "      <th>0</th>\n",
       "      <td>3</td>\n",
       "      <td>1400</td>\n",
       "      <td>1404</td>\n",
       "      <td>Fiscal</td>\n",
       "      <td>2019</td>\n",
       "      <td>Human Welfare &amp; Neighborhood Development</td>\n",
       "      <td>HSA</td>\n",
       "      <td>Human Services</td>\n",
       "      <td>790.0</td>\n",
       "      <td>SEIU, Local 1021, Misc</td>\n",
       "      <td>...</td>\n",
       "      <td>37486688</td>\n",
       "      <td>60720.01</td>\n",
       "      <td>0.00</td>\n",
       "      <td>0.00</td>\n",
       "      <td>60720.01</td>\n",
       "      <td>13653.20</td>\n",
       "      <td>14733.76</td>\n",
       "      <td>4904.34</td>\n",
       "      <td>33291.30</td>\n",
       "      <td>94011.31</td>\n",
       "    </tr>\n",
       "    <tr>\n",
       "      <th>1</th>\n",
       "      <td>3</td>\n",
       "      <td>9700</td>\n",
       "      <td>9703</td>\n",
       "      <td>Fiscal</td>\n",
       "      <td>2019</td>\n",
       "      <td>Human Welfare &amp; Neighborhood Development</td>\n",
       "      <td>HSA</td>\n",
       "      <td>Human Services</td>\n",
       "      <td>535.0</td>\n",
       "      <td>SEIU, Local 1021, Misc</td>\n",
       "      <td>...</td>\n",
       "      <td>39646203</td>\n",
       "      <td>91677.00</td>\n",
       "      <td>0.00</td>\n",
       "      <td>0.00</td>\n",
       "      <td>91677.00</td>\n",
       "      <td>17524.20</td>\n",
       "      <td>14733.76</td>\n",
       "      <td>7411.13</td>\n",
       "      <td>39669.09</td>\n",
       "      <td>131346.09</td>\n",
       "    </tr>\n",
       "    <tr>\n",
       "      <th>2</th>\n",
       "      <td>3</td>\n",
       "      <td>2900</td>\n",
       "      <td>2918</td>\n",
       "      <td>Fiscal</td>\n",
       "      <td>2019</td>\n",
       "      <td>Human Welfare &amp; Neighborhood Development</td>\n",
       "      <td>HSA</td>\n",
       "      <td>Human Services</td>\n",
       "      <td>535.0</td>\n",
       "      <td>SEIU, Local 1021, Misc</td>\n",
       "      <td>...</td>\n",
       "      <td>37486043</td>\n",
       "      <td>89106.03</td>\n",
       "      <td>0.00</td>\n",
       "      <td>1540.00</td>\n",
       "      <td>90646.03</td>\n",
       "      <td>17327.20</td>\n",
       "      <td>14733.76</td>\n",
       "      <td>7401.92</td>\n",
       "      <td>39462.88</td>\n",
       "      <td>130108.91</td>\n",
       "    </tr>\n",
       "    <tr>\n",
       "      <th>3</th>\n",
       "      <td>3</td>\n",
       "      <td>2900</td>\n",
       "      <td>2918</td>\n",
       "      <td>Fiscal</td>\n",
       "      <td>2019</td>\n",
       "      <td>Human Welfare &amp; Neighborhood Development</td>\n",
       "      <td>HSA</td>\n",
       "      <td>Human Services</td>\n",
       "      <td>535.0</td>\n",
       "      <td>SEIU, Local 1021, Misc</td>\n",
       "      <td>...</td>\n",
       "      <td>37615772</td>\n",
       "      <td>85581.11</td>\n",
       "      <td>3355.94</td>\n",
       "      <td>337.75</td>\n",
       "      <td>89274.80</td>\n",
       "      <td>16359.16</td>\n",
       "      <td>14151.56</td>\n",
       "      <td>7096.21</td>\n",
       "      <td>37606.93</td>\n",
       "      <td>126881.73</td>\n",
       "    </tr>\n",
       "    <tr>\n",
       "      <th>4</th>\n",
       "      <td>3</td>\n",
       "      <td>2900</td>\n",
       "      <td>2905</td>\n",
       "      <td>Fiscal</td>\n",
       "      <td>2019</td>\n",
       "      <td>Human Welfare &amp; Neighborhood Development</td>\n",
       "      <td>HSA</td>\n",
       "      <td>Human Services</td>\n",
       "      <td>535.0</td>\n",
       "      <td>SEIU, Local 1021, Misc</td>\n",
       "      <td>...</td>\n",
       "      <td>37500212</td>\n",
       "      <td>86457.00</td>\n",
       "      <td>0.00</td>\n",
       "      <td>2090.00</td>\n",
       "      <td>88547.00</td>\n",
       "      <td>16925.97</td>\n",
       "      <td>14733.76</td>\n",
       "      <td>7257.89</td>\n",
       "      <td>38917.62</td>\n",
       "      <td>127464.62</td>\n",
       "    </tr>\n",
       "    <tr>\n",
       "      <th>...</th>\n",
       "      <td>...</td>\n",
       "      <td>...</td>\n",
       "      <td>...</td>\n",
       "      <td>...</td>\n",
       "      <td>...</td>\n",
       "      <td>...</td>\n",
       "      <td>...</td>\n",
       "      <td>...</td>\n",
       "      <td>...</td>\n",
       "      <td>...</td>\n",
       "      <td>...</td>\n",
       "      <td>...</td>\n",
       "      <td>...</td>\n",
       "      <td>...</td>\n",
       "      <td>...</td>\n",
       "      <td>...</td>\n",
       "      <td>...</td>\n",
       "      <td>...</td>\n",
       "      <td>...</td>\n",
       "      <td>...</td>\n",
       "      <td>...</td>\n",
       "    </tr>\n",
       "    <tr>\n",
       "      <th>799557</th>\n",
       "      <td>2</td>\n",
       "      <td>9100</td>\n",
       "      <td>9163</td>\n",
       "      <td>Calendar</td>\n",
       "      <td>2013</td>\n",
       "      <td>Public Works, Transportation &amp; Commerce</td>\n",
       "      <td>MTA</td>\n",
       "      <td>MTA Municipal Transprtn Agncy</td>\n",
       "      <td>253.0</td>\n",
       "      <td>Transport Workers - Transit Operators, Local 2...</td>\n",
       "      <td>...</td>\n",
       "      <td>53367</td>\n",
       "      <td>11142.31</td>\n",
       "      <td>1108.66</td>\n",
       "      <td>951.82</td>\n",
       "      <td>13202.79</td>\n",
       "      <td>2895.51</td>\n",
       "      <td>2257.40</td>\n",
       "      <td>1034.29</td>\n",
       "      <td>6187.20</td>\n",
       "      <td>19389.99</td>\n",
       "    </tr>\n",
       "    <tr>\n",
       "      <th>799558</th>\n",
       "      <td>1</td>\n",
       "      <td>H000</td>\n",
       "      <td>H002</td>\n",
       "      <td>Fiscal</td>\n",
       "      <td>2016</td>\n",
       "      <td>Public Protection</td>\n",
       "      <td>FIR</td>\n",
       "      <td>FIR Fire Department</td>\n",
       "      <td>798.0</td>\n",
       "      <td>Firefighters - Miscellaneous, Local 798</td>\n",
       "      <td>...</td>\n",
       "      <td>53368</td>\n",
       "      <td>113827.04</td>\n",
       "      <td>3522.20</td>\n",
       "      <td>18443.14</td>\n",
       "      <td>135792.38</td>\n",
       "      <td>22601.81</td>\n",
       "      <td>15861.13</td>\n",
       "      <td>2298.46</td>\n",
       "      <td>40761.40</td>\n",
       "      <td>176553.78</td>\n",
       "    </tr>\n",
       "    <tr>\n",
       "      <th>799559</th>\n",
       "      <td>1</td>\n",
       "      <td>H000</td>\n",
       "      <td>H002</td>\n",
       "      <td>Fiscal</td>\n",
       "      <td>2015</td>\n",
       "      <td>Public Protection</td>\n",
       "      <td>FIR</td>\n",
       "      <td>FIR Fire Department</td>\n",
       "      <td>798.0</td>\n",
       "      <td>Firefighters - Miscellaneous, Local 798</td>\n",
       "      <td>...</td>\n",
       "      <td>53368</td>\n",
       "      <td>112703.74</td>\n",
       "      <td>6164.15</td>\n",
       "      <td>17442.37</td>\n",
       "      <td>136310.26</td>\n",
       "      <td>27146.96</td>\n",
       "      <td>15230.57</td>\n",
       "      <td>2247.85</td>\n",
       "      <td>44625.38</td>\n",
       "      <td>180935.64</td>\n",
       "    </tr>\n",
       "    <tr>\n",
       "      <th>799560</th>\n",
       "      <td>1</td>\n",
       "      <td>H000</td>\n",
       "      <td>H002</td>\n",
       "      <td>Fiscal</td>\n",
       "      <td>2014</td>\n",
       "      <td>Public Protection</td>\n",
       "      <td>FIR</td>\n",
       "      <td>FIR Fire Department</td>\n",
       "      <td>798.0</td>\n",
       "      <td>Firefighters - Miscellaneous, Local 798</td>\n",
       "      <td>...</td>\n",
       "      <td>53368</td>\n",
       "      <td>112935.01</td>\n",
       "      <td>0.00</td>\n",
       "      <td>18592.15</td>\n",
       "      <td>131527.16</td>\n",
       "      <td>25701.56</td>\n",
       "      <td>15245.17</td>\n",
       "      <td>2161.89</td>\n",
       "      <td>43108.62</td>\n",
       "      <td>174635.78</td>\n",
       "    </tr>\n",
       "    <tr>\n",
       "      <th>799561</th>\n",
       "      <td>1</td>\n",
       "      <td>H000</td>\n",
       "      <td>H002</td>\n",
       "      <td>Fiscal</td>\n",
       "      <td>2013</td>\n",
       "      <td>Public Protection</td>\n",
       "      <td>FIR</td>\n",
       "      <td>FIR Fire Department</td>\n",
       "      <td>798.0</td>\n",
       "      <td>Firefighters - Miscellaneous, Local 798</td>\n",
       "      <td>...</td>\n",
       "      <td>53368</td>\n",
       "      <td>113121.10</td>\n",
       "      <td>8665.39</td>\n",
       "      <td>18564.04</td>\n",
       "      <td>140350.53</td>\n",
       "      <td>22535.28</td>\n",
       "      <td>15683.42</td>\n",
       "      <td>2288.97</td>\n",
       "      <td>40507.67</td>\n",
       "      <td>180858.20</td>\n",
       "    </tr>\n",
       "  </tbody>\n",
       "</table>\n",
       "<p>799562 rows × 22 columns</p>\n",
       "</div>\n",
       "      <button class=\"colab-df-convert\" onclick=\"convertToInteractive('df-b7990de7-07ed-4d4c-b84f-567001c19151')\"\n",
       "              title=\"Convert this dataframe to an interactive table.\"\n",
       "              style=\"display:none;\">\n",
       "        \n",
       "  <svg xmlns=\"http://www.w3.org/2000/svg\" height=\"24px\"viewBox=\"0 0 24 24\"\n",
       "       width=\"24px\">\n",
       "    <path d=\"M0 0h24v24H0V0z\" fill=\"none\"/>\n",
       "    <path d=\"M18.56 5.44l.94 2.06.94-2.06 2.06-.94-2.06-.94-.94-2.06-.94 2.06-2.06.94zm-11 1L8.5 8.5l.94-2.06 2.06-.94-2.06-.94L8.5 2.5l-.94 2.06-2.06.94zm10 10l.94 2.06.94-2.06 2.06-.94-2.06-.94-.94-2.06-.94 2.06-2.06.94z\"/><path d=\"M17.41 7.96l-1.37-1.37c-.4-.4-.92-.59-1.43-.59-.52 0-1.04.2-1.43.59L10.3 9.45l-7.72 7.72c-.78.78-.78 2.05 0 2.83L4 21.41c.39.39.9.59 1.41.59.51 0 1.02-.2 1.41-.59l7.78-7.78 2.81-2.81c.8-.78.8-2.07 0-2.86zM5.41 20L4 18.59l7.72-7.72 1.47 1.35L5.41 20z\"/>\n",
       "  </svg>\n",
       "      </button>\n",
       "      \n",
       "  <style>\n",
       "    .colab-df-container {\n",
       "      display:flex;\n",
       "      flex-wrap:wrap;\n",
       "      gap: 12px;\n",
       "    }\n",
       "\n",
       "    .colab-df-convert {\n",
       "      background-color: #E8F0FE;\n",
       "      border: none;\n",
       "      border-radius: 50%;\n",
       "      cursor: pointer;\n",
       "      display: none;\n",
       "      fill: #1967D2;\n",
       "      height: 32px;\n",
       "      padding: 0 0 0 0;\n",
       "      width: 32px;\n",
       "    }\n",
       "\n",
       "    .colab-df-convert:hover {\n",
       "      background-color: #E2EBFA;\n",
       "      box-shadow: 0px 1px 2px rgba(60, 64, 67, 0.3), 0px 1px 3px 1px rgba(60, 64, 67, 0.15);\n",
       "      fill: #174EA6;\n",
       "    }\n",
       "\n",
       "    [theme=dark] .colab-df-convert {\n",
       "      background-color: #3B4455;\n",
       "      fill: #D2E3FC;\n",
       "    }\n",
       "\n",
       "    [theme=dark] .colab-df-convert:hover {\n",
       "      background-color: #434B5C;\n",
       "      box-shadow: 0px 1px 3px 1px rgba(0, 0, 0, 0.15);\n",
       "      filter: drop-shadow(0px 1px 2px rgba(0, 0, 0, 0.3));\n",
       "      fill: #FFFFFF;\n",
       "    }\n",
       "  </style>\n",
       "\n",
       "      <script>\n",
       "        const buttonEl =\n",
       "          document.querySelector('#df-b7990de7-07ed-4d4c-b84f-567001c19151 button.colab-df-convert');\n",
       "        buttonEl.style.display =\n",
       "          google.colab.kernel.accessAllowed ? 'block' : 'none';\n",
       "\n",
       "        async function convertToInteractive(key) {\n",
       "          const element = document.querySelector('#df-b7990de7-07ed-4d4c-b84f-567001c19151');\n",
       "          const dataTable =\n",
       "            await google.colab.kernel.invokeFunction('convertToInteractive',\n",
       "                                                     [key], {});\n",
       "          if (!dataTable) return;\n",
       "\n",
       "          const docLinkHtml = 'Like what you see? Visit the ' +\n",
       "            '<a target=\"_blank\" href=https://colab.research.google.com/notebooks/data_table.ipynb>data table notebook</a>'\n",
       "            + ' to learn more about interactive tables.';\n",
       "          element.innerHTML = '';\n",
       "          dataTable['output_type'] = 'display_data';\n",
       "          await google.colab.output.renderOutput(dataTable, element);\n",
       "          const docLink = document.createElement('div');\n",
       "          docLink.innerHTML = docLinkHtml;\n",
       "          element.appendChild(docLink);\n",
       "        }\n",
       "      </script>\n",
       "    </div>\n",
       "  </div>\n",
       "  "
      ],
      "text/plain": [
       "        Organization Group Code Job Family Code Job Code Year Type  Year  \\\n",
       "0                             3            1400     1404    Fiscal  2019   \n",
       "1                             3            9700     9703    Fiscal  2019   \n",
       "2                             3            2900     2918    Fiscal  2019   \n",
       "3                             3            2900     2918    Fiscal  2019   \n",
       "4                             3            2900     2905    Fiscal  2019   \n",
       "...                         ...             ...      ...       ...   ...   \n",
       "799557                        2            9100     9163  Calendar  2013   \n",
       "799558                        1            H000     H002    Fiscal  2016   \n",
       "799559                        1            H000     H002    Fiscal  2015   \n",
       "799560                        1            H000     H002    Fiscal  2014   \n",
       "799561                        1            H000     H002    Fiscal  2013   \n",
       "\n",
       "                              Organization Group Department Code  \\\n",
       "0       Human Welfare & Neighborhood Development             HSA   \n",
       "1       Human Welfare & Neighborhood Development             HSA   \n",
       "2       Human Welfare & Neighborhood Development             HSA   \n",
       "3       Human Welfare & Neighborhood Development             HSA   \n",
       "4       Human Welfare & Neighborhood Development             HSA   \n",
       "...                                          ...             ...   \n",
       "799557   Public Works, Transportation & Commerce             MTA   \n",
       "799558                         Public Protection             FIR   \n",
       "799559                         Public Protection             FIR   \n",
       "799560                         Public Protection             FIR   \n",
       "799561                         Public Protection             FIR   \n",
       "\n",
       "                           Department  Union Code  \\\n",
       "0                      Human Services       790.0   \n",
       "1                      Human Services       535.0   \n",
       "2                      Human Services       535.0   \n",
       "3                      Human Services       535.0   \n",
       "4                      Human Services       535.0   \n",
       "...                               ...         ...   \n",
       "799557  MTA Municipal Transprtn Agncy       253.0   \n",
       "799558            FIR Fire Department       798.0   \n",
       "799559            FIR Fire Department       798.0   \n",
       "799560            FIR Fire Department       798.0   \n",
       "799561            FIR Fire Department       798.0   \n",
       "\n",
       "                                                    Union  ...  \\\n",
       "0                                  SEIU, Local 1021, Misc  ...   \n",
       "1                                  SEIU, Local 1021, Misc  ...   \n",
       "2                                  SEIU, Local 1021, Misc  ...   \n",
       "3                                  SEIU, Local 1021, Misc  ...   \n",
       "4                                  SEIU, Local 1021, Misc  ...   \n",
       "...                                                   ...  ...   \n",
       "799557  Transport Workers - Transit Operators, Local 2...  ...   \n",
       "799558            Firefighters - Miscellaneous, Local 798  ...   \n",
       "799559            Firefighters - Miscellaneous, Local 798  ...   \n",
       "799560            Firefighters - Miscellaneous, Local 798  ...   \n",
       "799561            Firefighters - Miscellaneous, Local 798  ...   \n",
       "\n",
       "       Employee Identifier   Salaries  Overtime  Other Salaries  Total Salary  \\\n",
       "0                 37486688   60720.01      0.00            0.00      60720.01   \n",
       "1                 39646203   91677.00      0.00            0.00      91677.00   \n",
       "2                 37486043   89106.03      0.00         1540.00      90646.03   \n",
       "3                 37615772   85581.11   3355.94          337.75      89274.80   \n",
       "4                 37500212   86457.00      0.00         2090.00      88547.00   \n",
       "...                    ...        ...       ...             ...           ...   \n",
       "799557               53367   11142.31   1108.66          951.82      13202.79   \n",
       "799558               53368  113827.04   3522.20        18443.14     135792.38   \n",
       "799559               53368  112703.74   6164.15        17442.37     136310.26   \n",
       "799560               53368  112935.01      0.00        18592.15     131527.16   \n",
       "799561               53368  113121.10   8665.39        18564.04     140350.53   \n",
       "\n",
       "        Retirement  Health and Dental  Other Benefits  Total Benefits  \\\n",
       "0         13653.20           14733.76         4904.34        33291.30   \n",
       "1         17524.20           14733.76         7411.13        39669.09   \n",
       "2         17327.20           14733.76         7401.92        39462.88   \n",
       "3         16359.16           14151.56         7096.21        37606.93   \n",
       "4         16925.97           14733.76         7257.89        38917.62   \n",
       "...            ...                ...             ...             ...   \n",
       "799557     2895.51            2257.40         1034.29         6187.20   \n",
       "799558    22601.81           15861.13         2298.46        40761.40   \n",
       "799559    27146.96           15230.57         2247.85        44625.38   \n",
       "799560    25701.56           15245.17         2161.89        43108.62   \n",
       "799561    22535.28           15683.42         2288.97        40507.67   \n",
       "\n",
       "        Total Compensation  \n",
       "0                 94011.31  \n",
       "1                131346.09  \n",
       "2                130108.91  \n",
       "3                126881.73  \n",
       "4                127464.62  \n",
       "...                    ...  \n",
       "799557            19389.99  \n",
       "799558           176553.78  \n",
       "799559           180935.64  \n",
       "799560           174635.78  \n",
       "799561           180858.20  \n",
       "\n",
       "[799562 rows x 22 columns]"
      ]
     },
     "execution_count": 4,
     "metadata": {},
     "output_type": "execute_result"
    }
   ],
   "source": [
    "\n",
    "from google.colab import drive\n",
    "drive.mount('/content/drive')\n",
    "\n",
    "employee_compensation_data = pd.read_csv(\"drive/MyDrive/Employee_Compensation.csv\")\n",
    "\n",
    "employee_compensation_data"
   ]
  },
  {
   "cell_type": "markdown",
   "id": "m5tIG_wvg5ez",
   "metadata": {
    "id": "m5tIG_wvg5ez"
   },
   "source": [
    "**Finding Dataframe shape(rows, columns)**"
   ]
  },
  {
   "cell_type": "code",
   "execution_count": null,
   "id": "fj_QWcvRgx9-",
   "metadata": {
    "colab": {
     "base_uri": "https://localhost:8080/"
    },
    "executionInfo": {
     "elapsed": 25,
     "status": "ok",
     "timestamp": 1681523621064,
     "user": {
      "displayName": "Srinu Venuvanka",
      "userId": "07818478530935474505"
     },
     "user_tz": 240
    },
    "id": "fj_QWcvRgx9-",
    "outputId": "1df7d4dd-fa52-4576-f5a9-6aa11cb4a187"
   },
   "outputs": [
    {
     "data": {
      "text/plain": [
       "(799562, 22)"
      ]
     },
     "execution_count": 5,
     "metadata": {},
     "output_type": "execute_result"
    }
   ],
   "source": [
    "employee_compensation_data.shape"
   ]
  },
  {
   "cell_type": "markdown",
   "id": "LhCgVRu6VW-2",
   "metadata": {
    "id": "LhCgVRu6VW-2"
   },
   "source": [
    "**Find the first 5 rows from dataset using head()**"
   ]
  },
  {
   "cell_type": "code",
   "execution_count": null,
   "id": "4b744f4e",
   "metadata": {
    "colab": {
     "base_uri": "https://localhost:8080/",
     "height": 595
    },
    "executionInfo": {
     "elapsed": 21,
     "status": "ok",
     "timestamp": 1681523621065,
     "user": {
      "displayName": "Srinu Venuvanka",
      "userId": "07818478530935474505"
     },
     "user_tz": 240
    },
    "id": "4b744f4e",
    "outputId": "41207a1a-c278-4617-a075-3ba7468537b1",
    "scrolled": true
   },
   "outputs": [
    {
     "data": {
      "text/html": [
       "\n",
       "  <div id=\"df-029dcade-538e-4704-a3b3-fe1131abbe2f\">\n",
       "    <div class=\"colab-df-container\">\n",
       "      <div>\n",
       "<style scoped>\n",
       "    .dataframe tbody tr th:only-of-type {\n",
       "        vertical-align: middle;\n",
       "    }\n",
       "\n",
       "    .dataframe tbody tr th {\n",
       "        vertical-align: top;\n",
       "    }\n",
       "\n",
       "    .dataframe thead th {\n",
       "        text-align: right;\n",
       "    }\n",
       "</style>\n",
       "<table border=\"1\" class=\"dataframe\">\n",
       "  <thead>\n",
       "    <tr style=\"text-align: right;\">\n",
       "      <th></th>\n",
       "      <th>Organization Group Code</th>\n",
       "      <th>Job Family Code</th>\n",
       "      <th>Job Code</th>\n",
       "      <th>Year Type</th>\n",
       "      <th>Year</th>\n",
       "      <th>Organization Group</th>\n",
       "      <th>Department Code</th>\n",
       "      <th>Department</th>\n",
       "      <th>Union Code</th>\n",
       "      <th>Union</th>\n",
       "      <th>...</th>\n",
       "      <th>Employee Identifier</th>\n",
       "      <th>Salaries</th>\n",
       "      <th>Overtime</th>\n",
       "      <th>Other Salaries</th>\n",
       "      <th>Total Salary</th>\n",
       "      <th>Retirement</th>\n",
       "      <th>Health and Dental</th>\n",
       "      <th>Other Benefits</th>\n",
       "      <th>Total Benefits</th>\n",
       "      <th>Total Compensation</th>\n",
       "    </tr>\n",
       "  </thead>\n",
       "  <tbody>\n",
       "    <tr>\n",
       "      <th>0</th>\n",
       "      <td>3</td>\n",
       "      <td>1400</td>\n",
       "      <td>1404</td>\n",
       "      <td>Fiscal</td>\n",
       "      <td>2019</td>\n",
       "      <td>Human Welfare &amp; Neighborhood Development</td>\n",
       "      <td>HSA</td>\n",
       "      <td>Human Services</td>\n",
       "      <td>790.0</td>\n",
       "      <td>SEIU, Local 1021, Misc</td>\n",
       "      <td>...</td>\n",
       "      <td>37486688</td>\n",
       "      <td>60720.01</td>\n",
       "      <td>0.00</td>\n",
       "      <td>0.00</td>\n",
       "      <td>60720.01</td>\n",
       "      <td>13653.20</td>\n",
       "      <td>14733.76</td>\n",
       "      <td>4904.34</td>\n",
       "      <td>33291.30</td>\n",
       "      <td>94011.31</td>\n",
       "    </tr>\n",
       "    <tr>\n",
       "      <th>1</th>\n",
       "      <td>3</td>\n",
       "      <td>9700</td>\n",
       "      <td>9703</td>\n",
       "      <td>Fiscal</td>\n",
       "      <td>2019</td>\n",
       "      <td>Human Welfare &amp; Neighborhood Development</td>\n",
       "      <td>HSA</td>\n",
       "      <td>Human Services</td>\n",
       "      <td>535.0</td>\n",
       "      <td>SEIU, Local 1021, Misc</td>\n",
       "      <td>...</td>\n",
       "      <td>39646203</td>\n",
       "      <td>91677.00</td>\n",
       "      <td>0.00</td>\n",
       "      <td>0.00</td>\n",
       "      <td>91677.00</td>\n",
       "      <td>17524.20</td>\n",
       "      <td>14733.76</td>\n",
       "      <td>7411.13</td>\n",
       "      <td>39669.09</td>\n",
       "      <td>131346.09</td>\n",
       "    </tr>\n",
       "    <tr>\n",
       "      <th>2</th>\n",
       "      <td>3</td>\n",
       "      <td>2900</td>\n",
       "      <td>2918</td>\n",
       "      <td>Fiscal</td>\n",
       "      <td>2019</td>\n",
       "      <td>Human Welfare &amp; Neighborhood Development</td>\n",
       "      <td>HSA</td>\n",
       "      <td>Human Services</td>\n",
       "      <td>535.0</td>\n",
       "      <td>SEIU, Local 1021, Misc</td>\n",
       "      <td>...</td>\n",
       "      <td>37486043</td>\n",
       "      <td>89106.03</td>\n",
       "      <td>0.00</td>\n",
       "      <td>1540.00</td>\n",
       "      <td>90646.03</td>\n",
       "      <td>17327.20</td>\n",
       "      <td>14733.76</td>\n",
       "      <td>7401.92</td>\n",
       "      <td>39462.88</td>\n",
       "      <td>130108.91</td>\n",
       "    </tr>\n",
       "    <tr>\n",
       "      <th>3</th>\n",
       "      <td>3</td>\n",
       "      <td>2900</td>\n",
       "      <td>2918</td>\n",
       "      <td>Fiscal</td>\n",
       "      <td>2019</td>\n",
       "      <td>Human Welfare &amp; Neighborhood Development</td>\n",
       "      <td>HSA</td>\n",
       "      <td>Human Services</td>\n",
       "      <td>535.0</td>\n",
       "      <td>SEIU, Local 1021, Misc</td>\n",
       "      <td>...</td>\n",
       "      <td>37615772</td>\n",
       "      <td>85581.11</td>\n",
       "      <td>3355.94</td>\n",
       "      <td>337.75</td>\n",
       "      <td>89274.80</td>\n",
       "      <td>16359.16</td>\n",
       "      <td>14151.56</td>\n",
       "      <td>7096.21</td>\n",
       "      <td>37606.93</td>\n",
       "      <td>126881.73</td>\n",
       "    </tr>\n",
       "    <tr>\n",
       "      <th>4</th>\n",
       "      <td>3</td>\n",
       "      <td>2900</td>\n",
       "      <td>2905</td>\n",
       "      <td>Fiscal</td>\n",
       "      <td>2019</td>\n",
       "      <td>Human Welfare &amp; Neighborhood Development</td>\n",
       "      <td>HSA</td>\n",
       "      <td>Human Services</td>\n",
       "      <td>535.0</td>\n",
       "      <td>SEIU, Local 1021, Misc</td>\n",
       "      <td>...</td>\n",
       "      <td>37500212</td>\n",
       "      <td>86457.00</td>\n",
       "      <td>0.00</td>\n",
       "      <td>2090.00</td>\n",
       "      <td>88547.00</td>\n",
       "      <td>16925.97</td>\n",
       "      <td>14733.76</td>\n",
       "      <td>7257.89</td>\n",
       "      <td>38917.62</td>\n",
       "      <td>127464.62</td>\n",
       "    </tr>\n",
       "  </tbody>\n",
       "</table>\n",
       "<p>5 rows × 22 columns</p>\n",
       "</div>\n",
       "      <button class=\"colab-df-convert\" onclick=\"convertToInteractive('df-029dcade-538e-4704-a3b3-fe1131abbe2f')\"\n",
       "              title=\"Convert this dataframe to an interactive table.\"\n",
       "              style=\"display:none;\">\n",
       "        \n",
       "  <svg xmlns=\"http://www.w3.org/2000/svg\" height=\"24px\"viewBox=\"0 0 24 24\"\n",
       "       width=\"24px\">\n",
       "    <path d=\"M0 0h24v24H0V0z\" fill=\"none\"/>\n",
       "    <path d=\"M18.56 5.44l.94 2.06.94-2.06 2.06-.94-2.06-.94-.94-2.06-.94 2.06-2.06.94zm-11 1L8.5 8.5l.94-2.06 2.06-.94-2.06-.94L8.5 2.5l-.94 2.06-2.06.94zm10 10l.94 2.06.94-2.06 2.06-.94-2.06-.94-.94-2.06-.94 2.06-2.06.94z\"/><path d=\"M17.41 7.96l-1.37-1.37c-.4-.4-.92-.59-1.43-.59-.52 0-1.04.2-1.43.59L10.3 9.45l-7.72 7.72c-.78.78-.78 2.05 0 2.83L4 21.41c.39.39.9.59 1.41.59.51 0 1.02-.2 1.41-.59l7.78-7.78 2.81-2.81c.8-.78.8-2.07 0-2.86zM5.41 20L4 18.59l7.72-7.72 1.47 1.35L5.41 20z\"/>\n",
       "  </svg>\n",
       "      </button>\n",
       "      \n",
       "  <style>\n",
       "    .colab-df-container {\n",
       "      display:flex;\n",
       "      flex-wrap:wrap;\n",
       "      gap: 12px;\n",
       "    }\n",
       "\n",
       "    .colab-df-convert {\n",
       "      background-color: #E8F0FE;\n",
       "      border: none;\n",
       "      border-radius: 50%;\n",
       "      cursor: pointer;\n",
       "      display: none;\n",
       "      fill: #1967D2;\n",
       "      height: 32px;\n",
       "      padding: 0 0 0 0;\n",
       "      width: 32px;\n",
       "    }\n",
       "\n",
       "    .colab-df-convert:hover {\n",
       "      background-color: #E2EBFA;\n",
       "      box-shadow: 0px 1px 2px rgba(60, 64, 67, 0.3), 0px 1px 3px 1px rgba(60, 64, 67, 0.15);\n",
       "      fill: #174EA6;\n",
       "    }\n",
       "\n",
       "    [theme=dark] .colab-df-convert {\n",
       "      background-color: #3B4455;\n",
       "      fill: #D2E3FC;\n",
       "    }\n",
       "\n",
       "    [theme=dark] .colab-df-convert:hover {\n",
       "      background-color: #434B5C;\n",
       "      box-shadow: 0px 1px 3px 1px rgba(0, 0, 0, 0.15);\n",
       "      filter: drop-shadow(0px 1px 2px rgba(0, 0, 0, 0.3));\n",
       "      fill: #FFFFFF;\n",
       "    }\n",
       "  </style>\n",
       "\n",
       "      <script>\n",
       "        const buttonEl =\n",
       "          document.querySelector('#df-029dcade-538e-4704-a3b3-fe1131abbe2f button.colab-df-convert');\n",
       "        buttonEl.style.display =\n",
       "          google.colab.kernel.accessAllowed ? 'block' : 'none';\n",
       "\n",
       "        async function convertToInteractive(key) {\n",
       "          const element = document.querySelector('#df-029dcade-538e-4704-a3b3-fe1131abbe2f');\n",
       "          const dataTable =\n",
       "            await google.colab.kernel.invokeFunction('convertToInteractive',\n",
       "                                                     [key], {});\n",
       "          if (!dataTable) return;\n",
       "\n",
       "          const docLinkHtml = 'Like what you see? Visit the ' +\n",
       "            '<a target=\"_blank\" href=https://colab.research.google.com/notebooks/data_table.ipynb>data table notebook</a>'\n",
       "            + ' to learn more about interactive tables.';\n",
       "          element.innerHTML = '';\n",
       "          dataTable['output_type'] = 'display_data';\n",
       "          await google.colab.output.renderOutput(dataTable, element);\n",
       "          const docLink = document.createElement('div');\n",
       "          docLink.innerHTML = docLinkHtml;\n",
       "          element.appendChild(docLink);\n",
       "        }\n",
       "      </script>\n",
       "    </div>\n",
       "  </div>\n",
       "  "
      ],
      "text/plain": [
       "   Organization Group Code Job Family Code Job Code Year Type  Year  \\\n",
       "0                        3            1400     1404    Fiscal  2019   \n",
       "1                        3            9700     9703    Fiscal  2019   \n",
       "2                        3            2900     2918    Fiscal  2019   \n",
       "3                        3            2900     2918    Fiscal  2019   \n",
       "4                        3            2900     2905    Fiscal  2019   \n",
       "\n",
       "                         Organization Group Department Code      Department  \\\n",
       "0  Human Welfare & Neighborhood Development             HSA  Human Services   \n",
       "1  Human Welfare & Neighborhood Development             HSA  Human Services   \n",
       "2  Human Welfare & Neighborhood Development             HSA  Human Services   \n",
       "3  Human Welfare & Neighborhood Development             HSA  Human Services   \n",
       "4  Human Welfare & Neighborhood Development             HSA  Human Services   \n",
       "\n",
       "   Union Code                   Union  ... Employee Identifier  Salaries  \\\n",
       "0       790.0  SEIU, Local 1021, Misc  ...            37486688  60720.01   \n",
       "1       535.0  SEIU, Local 1021, Misc  ...            39646203  91677.00   \n",
       "2       535.0  SEIU, Local 1021, Misc  ...            37486043  89106.03   \n",
       "3       535.0  SEIU, Local 1021, Misc  ...            37615772  85581.11   \n",
       "4       535.0  SEIU, Local 1021, Misc  ...            37500212  86457.00   \n",
       "\n",
       "   Overtime  Other Salaries  Total Salary  Retirement  Health and Dental  \\\n",
       "0      0.00            0.00      60720.01    13653.20           14733.76   \n",
       "1      0.00            0.00      91677.00    17524.20           14733.76   \n",
       "2      0.00         1540.00      90646.03    17327.20           14733.76   \n",
       "3   3355.94          337.75      89274.80    16359.16           14151.56   \n",
       "4      0.00         2090.00      88547.00    16925.97           14733.76   \n",
       "\n",
       "   Other Benefits  Total Benefits  Total Compensation  \n",
       "0         4904.34        33291.30            94011.31  \n",
       "1         7411.13        39669.09           131346.09  \n",
       "2         7401.92        39462.88           130108.91  \n",
       "3         7096.21        37606.93           126881.73  \n",
       "4         7257.89        38917.62           127464.62  \n",
       "\n",
       "[5 rows x 22 columns]"
      ]
     },
     "execution_count": 6,
     "metadata": {},
     "output_type": "execute_result"
    }
   ],
   "source": [
    "employee_compensation_data.head()"
   ]
  },
  {
   "cell_type": "markdown",
   "id": "uTASttTcVnf-",
   "metadata": {
    "id": "uTASttTcVnf-"
   },
   "source": [
    "**Data Transformation::Renaming of Column names**"
   ]
  },
  {
   "cell_type": "code",
   "execution_count": null,
   "id": "d68b3417",
   "metadata": {
    "colab": {
     "base_uri": "https://localhost:8080/"
    },
    "executionInfo": {
     "elapsed": 19,
     "status": "ok",
     "timestamp": 1681523621065,
     "user": {
      "displayName": "Srinu Venuvanka",
      "userId": "07818478530935474505"
     },
     "user_tz": 240
    },
    "id": "d68b3417",
    "outputId": "010472a1-28fa-431f-8e95-3cd2b817d838"
   },
   "outputs": [
    {
     "data": {
      "text/plain": [
       "Index(['Organization_Group_Code', 'Job_Family_Code', 'Job_Code', 'Year_Type',\n",
       "       'Year', 'Organization_Group', 'Department_Code', 'Department',\n",
       "       'Union_Code', 'Union', 'Job_Family', 'Job', 'Employee_Identifier',\n",
       "       'Salaries', 'Overtime', 'Other_Salaries', 'Total_Salary', 'Retirement',\n",
       "       'Health_and_Dental', 'Other_Benefits', 'Total_Benefits',\n",
       "       'Total_Compensation'],\n",
       "      dtype='object')"
      ]
     },
     "execution_count": 7,
     "metadata": {},
     "output_type": "execute_result"
    }
   ],
   "source": [
    "employee_compensation_data.columns = employee_compensation_data.columns.str.replace(' ', '_')\n",
    "employee_compensation_data.columns"
   ]
  },
  {
   "cell_type": "markdown",
   "id": "fHUNBz2LWKu_",
   "metadata": {
    "id": "fHUNBz2LWKu_"
   },
   "source": [
    "**Data Transformation:: changing column names to lowercase letters**"
   ]
  },
  {
   "cell_type": "code",
   "execution_count": null,
   "id": "ebac2cf3",
   "metadata": {
    "colab": {
     "base_uri": "https://localhost:8080/"
    },
    "executionInfo": {
     "elapsed": 16,
     "status": "ok",
     "timestamp": 1681523621066,
     "user": {
      "displayName": "Srinu Venuvanka",
      "userId": "07818478530935474505"
     },
     "user_tz": 240
    },
    "id": "ebac2cf3",
    "outputId": "40e0d9da-dd2f-4d2c-f17b-c0ae48053471"
   },
   "outputs": [
    {
     "data": {
      "text/plain": [
       "Index(['organization_group_code', 'job_family_code', 'job_code', 'year_type',\n",
       "       'year', 'organization_group', 'department_code', 'department',\n",
       "       'union_code', 'union', 'job_family', 'job', 'employee_identifier',\n",
       "       'salaries', 'overtime', 'other_salaries', 'total_salary', 'retirement',\n",
       "       'health_and_dental', 'other_benefits', 'total_benefits',\n",
       "       'total_compensation'],\n",
       "      dtype='object')"
      ]
     },
     "execution_count": 8,
     "metadata": {},
     "output_type": "execute_result"
    }
   ],
   "source": [
    "employee_compensation_data.columns = employee_compensation_data.columns.str.lower()\n",
    "employee_compensation_data.columns"
   ]
  },
  {
   "cell_type": "markdown",
   "id": "hZ9dGvdeXU6f",
   "metadata": {
    "id": "hZ9dGvdeXU6f"
   },
   "source": [
    "**Data Transformation: Dropping unnecessary columns from dataset**"
   ]
  },
  {
   "cell_type": "code",
   "execution_count": null,
   "id": "af2c724c",
   "metadata": {
    "id": "af2c724c"
   },
   "outputs": [],
   "source": [
    "employee_compensation_data.drop(['organization_group_code', 'job_family_code', 'job_code', 'union_code', 'employee_identifier']\n",
    "                                , axis='columns'\n",
    "                                , inplace=True)"
   ]
  },
  {
   "cell_type": "code",
   "execution_count": null,
   "id": "d20178ce",
   "metadata": {
    "colab": {
     "base_uri": "https://localhost:8080/",
     "height": 531
    },
    "executionInfo": {
     "elapsed": 8,
     "status": "ok",
     "timestamp": 1681523621235,
     "user": {
      "displayName": "Srinu Venuvanka",
      "userId": "07818478530935474505"
     },
     "user_tz": 240
    },
    "id": "d20178ce",
    "outputId": "54465432-e108-4751-b4ba-14eaa9a6b480"
   },
   "outputs": [
    {
     "data": {
      "text/html": [
       "\n",
       "  <div id=\"df-7417020c-1e12-4b75-a854-267117128039\">\n",
       "    <div class=\"colab-df-container\">\n",
       "      <div>\n",
       "<style scoped>\n",
       "    .dataframe tbody tr th:only-of-type {\n",
       "        vertical-align: middle;\n",
       "    }\n",
       "\n",
       "    .dataframe tbody tr th {\n",
       "        vertical-align: top;\n",
       "    }\n",
       "\n",
       "    .dataframe thead th {\n",
       "        text-align: right;\n",
       "    }\n",
       "</style>\n",
       "<table border=\"1\" class=\"dataframe\">\n",
       "  <thead>\n",
       "    <tr style=\"text-align: right;\">\n",
       "      <th></th>\n",
       "      <th>year_type</th>\n",
       "      <th>year</th>\n",
       "      <th>organization_group</th>\n",
       "      <th>department_code</th>\n",
       "      <th>department</th>\n",
       "      <th>union</th>\n",
       "      <th>job_family</th>\n",
       "      <th>job</th>\n",
       "      <th>salaries</th>\n",
       "      <th>overtime</th>\n",
       "      <th>other_salaries</th>\n",
       "      <th>total_salary</th>\n",
       "      <th>retirement</th>\n",
       "      <th>health_and_dental</th>\n",
       "      <th>other_benefits</th>\n",
       "      <th>total_benefits</th>\n",
       "      <th>total_compensation</th>\n",
       "    </tr>\n",
       "  </thead>\n",
       "  <tbody>\n",
       "    <tr>\n",
       "      <th>0</th>\n",
       "      <td>Fiscal</td>\n",
       "      <td>2019</td>\n",
       "      <td>Human Welfare &amp; Neighborhood Development</td>\n",
       "      <td>HSA</td>\n",
       "      <td>Human Services</td>\n",
       "      <td>SEIU, Local 1021, Misc</td>\n",
       "      <td>Clerical, Secretarial &amp; Steno</td>\n",
       "      <td>Clerk</td>\n",
       "      <td>60720.01</td>\n",
       "      <td>0.00</td>\n",
       "      <td>0.00</td>\n",
       "      <td>60720.01</td>\n",
       "      <td>13653.20</td>\n",
       "      <td>14733.76</td>\n",
       "      <td>4904.34</td>\n",
       "      <td>33291.30</td>\n",
       "      <td>94011.31</td>\n",
       "    </tr>\n",
       "    <tr>\n",
       "      <th>1</th>\n",
       "      <td>Fiscal</td>\n",
       "      <td>2019</td>\n",
       "      <td>Human Welfare &amp; Neighborhood Development</td>\n",
       "      <td>HSA</td>\n",
       "      <td>Human Services</td>\n",
       "      <td>SEIU, Local 1021, Misc</td>\n",
       "      <td>Community Development</td>\n",
       "      <td>HSA Emp &amp; Training Spec II</td>\n",
       "      <td>91677.00</td>\n",
       "      <td>0.00</td>\n",
       "      <td>0.00</td>\n",
       "      <td>91677.00</td>\n",
       "      <td>17524.20</td>\n",
       "      <td>14733.76</td>\n",
       "      <td>7411.13</td>\n",
       "      <td>39669.09</td>\n",
       "      <td>131346.09</td>\n",
       "    </tr>\n",
       "    <tr>\n",
       "      <th>2</th>\n",
       "      <td>Fiscal</td>\n",
       "      <td>2019</td>\n",
       "      <td>Human Welfare &amp; Neighborhood Development</td>\n",
       "      <td>HSA</td>\n",
       "      <td>Human Services</td>\n",
       "      <td>SEIU, Local 1021, Misc</td>\n",
       "      <td>Human Services</td>\n",
       "      <td>HSA Social Worker</td>\n",
       "      <td>89106.03</td>\n",
       "      <td>0.00</td>\n",
       "      <td>1540.00</td>\n",
       "      <td>90646.03</td>\n",
       "      <td>17327.20</td>\n",
       "      <td>14733.76</td>\n",
       "      <td>7401.92</td>\n",
       "      <td>39462.88</td>\n",
       "      <td>130108.91</td>\n",
       "    </tr>\n",
       "    <tr>\n",
       "      <th>3</th>\n",
       "      <td>Fiscal</td>\n",
       "      <td>2019</td>\n",
       "      <td>Human Welfare &amp; Neighborhood Development</td>\n",
       "      <td>HSA</td>\n",
       "      <td>Human Services</td>\n",
       "      <td>SEIU, Local 1021, Misc</td>\n",
       "      <td>Human Services</td>\n",
       "      <td>HSA Social Worker</td>\n",
       "      <td>85581.11</td>\n",
       "      <td>3355.94</td>\n",
       "      <td>337.75</td>\n",
       "      <td>89274.80</td>\n",
       "      <td>16359.16</td>\n",
       "      <td>14151.56</td>\n",
       "      <td>7096.21</td>\n",
       "      <td>37606.93</td>\n",
       "      <td>126881.73</td>\n",
       "    </tr>\n",
       "    <tr>\n",
       "      <th>4</th>\n",
       "      <td>Fiscal</td>\n",
       "      <td>2019</td>\n",
       "      <td>Human Welfare &amp; Neighborhood Development</td>\n",
       "      <td>HSA</td>\n",
       "      <td>Human Services</td>\n",
       "      <td>SEIU, Local 1021, Misc</td>\n",
       "      <td>Human Services</td>\n",
       "      <td>HSA Sr Eligibility Worker</td>\n",
       "      <td>86457.00</td>\n",
       "      <td>0.00</td>\n",
       "      <td>2090.00</td>\n",
       "      <td>88547.00</td>\n",
       "      <td>16925.97</td>\n",
       "      <td>14733.76</td>\n",
       "      <td>7257.89</td>\n",
       "      <td>38917.62</td>\n",
       "      <td>127464.62</td>\n",
       "    </tr>\n",
       "  </tbody>\n",
       "</table>\n",
       "</div>\n",
       "      <button class=\"colab-df-convert\" onclick=\"convertToInteractive('df-7417020c-1e12-4b75-a854-267117128039')\"\n",
       "              title=\"Convert this dataframe to an interactive table.\"\n",
       "              style=\"display:none;\">\n",
       "        \n",
       "  <svg xmlns=\"http://www.w3.org/2000/svg\" height=\"24px\"viewBox=\"0 0 24 24\"\n",
       "       width=\"24px\">\n",
       "    <path d=\"M0 0h24v24H0V0z\" fill=\"none\"/>\n",
       "    <path d=\"M18.56 5.44l.94 2.06.94-2.06 2.06-.94-2.06-.94-.94-2.06-.94 2.06-2.06.94zm-11 1L8.5 8.5l.94-2.06 2.06-.94-2.06-.94L8.5 2.5l-.94 2.06-2.06.94zm10 10l.94 2.06.94-2.06 2.06-.94-2.06-.94-.94-2.06-.94 2.06-2.06.94z\"/><path d=\"M17.41 7.96l-1.37-1.37c-.4-.4-.92-.59-1.43-.59-.52 0-1.04.2-1.43.59L10.3 9.45l-7.72 7.72c-.78.78-.78 2.05 0 2.83L4 21.41c.39.39.9.59 1.41.59.51 0 1.02-.2 1.41-.59l7.78-7.78 2.81-2.81c.8-.78.8-2.07 0-2.86zM5.41 20L4 18.59l7.72-7.72 1.47 1.35L5.41 20z\"/>\n",
       "  </svg>\n",
       "      </button>\n",
       "      \n",
       "  <style>\n",
       "    .colab-df-container {\n",
       "      display:flex;\n",
       "      flex-wrap:wrap;\n",
       "      gap: 12px;\n",
       "    }\n",
       "\n",
       "    .colab-df-convert {\n",
       "      background-color: #E8F0FE;\n",
       "      border: none;\n",
       "      border-radius: 50%;\n",
       "      cursor: pointer;\n",
       "      display: none;\n",
       "      fill: #1967D2;\n",
       "      height: 32px;\n",
       "      padding: 0 0 0 0;\n",
       "      width: 32px;\n",
       "    }\n",
       "\n",
       "    .colab-df-convert:hover {\n",
       "      background-color: #E2EBFA;\n",
       "      box-shadow: 0px 1px 2px rgba(60, 64, 67, 0.3), 0px 1px 3px 1px rgba(60, 64, 67, 0.15);\n",
       "      fill: #174EA6;\n",
       "    }\n",
       "\n",
       "    [theme=dark] .colab-df-convert {\n",
       "      background-color: #3B4455;\n",
       "      fill: #D2E3FC;\n",
       "    }\n",
       "\n",
       "    [theme=dark] .colab-df-convert:hover {\n",
       "      background-color: #434B5C;\n",
       "      box-shadow: 0px 1px 3px 1px rgba(0, 0, 0, 0.15);\n",
       "      filter: drop-shadow(0px 1px 2px rgba(0, 0, 0, 0.3));\n",
       "      fill: #FFFFFF;\n",
       "    }\n",
       "  </style>\n",
       "\n",
       "      <script>\n",
       "        const buttonEl =\n",
       "          document.querySelector('#df-7417020c-1e12-4b75-a854-267117128039 button.colab-df-convert');\n",
       "        buttonEl.style.display =\n",
       "          google.colab.kernel.accessAllowed ? 'block' : 'none';\n",
       "\n",
       "        async function convertToInteractive(key) {\n",
       "          const element = document.querySelector('#df-7417020c-1e12-4b75-a854-267117128039');\n",
       "          const dataTable =\n",
       "            await google.colab.kernel.invokeFunction('convertToInteractive',\n",
       "                                                     [key], {});\n",
       "          if (!dataTable) return;\n",
       "\n",
       "          const docLinkHtml = 'Like what you see? Visit the ' +\n",
       "            '<a target=\"_blank\" href=https://colab.research.google.com/notebooks/data_table.ipynb>data table notebook</a>'\n",
       "            + ' to learn more about interactive tables.';\n",
       "          element.innerHTML = '';\n",
       "          dataTable['output_type'] = 'display_data';\n",
       "          await google.colab.output.renderOutput(dataTable, element);\n",
       "          const docLink = document.createElement('div');\n",
       "          docLink.innerHTML = docLinkHtml;\n",
       "          element.appendChild(docLink);\n",
       "        }\n",
       "      </script>\n",
       "    </div>\n",
       "  </div>\n",
       "  "
      ],
      "text/plain": [
       "  year_type  year                        organization_group department_code  \\\n",
       "0    Fiscal  2019  Human Welfare & Neighborhood Development             HSA   \n",
       "1    Fiscal  2019  Human Welfare & Neighborhood Development             HSA   \n",
       "2    Fiscal  2019  Human Welfare & Neighborhood Development             HSA   \n",
       "3    Fiscal  2019  Human Welfare & Neighborhood Development             HSA   \n",
       "4    Fiscal  2019  Human Welfare & Neighborhood Development             HSA   \n",
       "\n",
       "       department                   union                     job_family  \\\n",
       "0  Human Services  SEIU, Local 1021, Misc  Clerical, Secretarial & Steno   \n",
       "1  Human Services  SEIU, Local 1021, Misc          Community Development   \n",
       "2  Human Services  SEIU, Local 1021, Misc                 Human Services   \n",
       "3  Human Services  SEIU, Local 1021, Misc                 Human Services   \n",
       "4  Human Services  SEIU, Local 1021, Misc                 Human Services   \n",
       "\n",
       "                          job  salaries  overtime  other_salaries  \\\n",
       "0                       Clerk  60720.01      0.00            0.00   \n",
       "1  HSA Emp & Training Spec II  91677.00      0.00            0.00   \n",
       "2           HSA Social Worker  89106.03      0.00         1540.00   \n",
       "3           HSA Social Worker  85581.11   3355.94          337.75   \n",
       "4   HSA Sr Eligibility Worker  86457.00      0.00         2090.00   \n",
       "\n",
       "   total_salary  retirement  health_and_dental  other_benefits  \\\n",
       "0      60720.01    13653.20           14733.76         4904.34   \n",
       "1      91677.00    17524.20           14733.76         7411.13   \n",
       "2      90646.03    17327.20           14733.76         7401.92   \n",
       "3      89274.80    16359.16           14151.56         7096.21   \n",
       "4      88547.00    16925.97           14733.76         7257.89   \n",
       "\n",
       "   total_benefits  total_compensation  \n",
       "0        33291.30            94011.31  \n",
       "1        39669.09           131346.09  \n",
       "2        39462.88           130108.91  \n",
       "3        37606.93           126881.73  \n",
       "4        38917.62           127464.62  "
      ]
     },
     "execution_count": 10,
     "metadata": {},
     "output_type": "execute_result"
    }
   ],
   "source": [
    "employee_compensation_data.head()"
   ]
  },
  {
   "cell_type": "markdown",
   "id": "9Jm4rDTKadxE",
   "metadata": {
    "id": "9Jm4rDTKadxE"
   },
   "source": [
    "**Data_Clean: checking for null values**"
   ]
  },
  {
   "cell_type": "code",
   "execution_count": null,
   "id": "df2c7cd7",
   "metadata": {
    "colab": {
     "base_uri": "https://localhost:8080/"
    },
    "executionInfo": {
     "elapsed": 705,
     "status": "ok",
     "timestamp": 1681523621934,
     "user": {
      "displayName": "Srinu Venuvanka",
      "userId": "07818478530935474505"
     },
     "user_tz": 240
    },
    "id": "df2c7cd7",
    "outputId": "ad1ce1d8-5078-4ee9-c6b8-5c0458f51c22"
   },
   "outputs": [
    {
     "data": {
      "text/plain": [
       "year_type             False\n",
       "year                  False\n",
       "organization_group    False\n",
       "department_code        True\n",
       "department             True\n",
       "union                  True\n",
       "job_family            False\n",
       "job                    True\n",
       "salaries              False\n",
       "overtime              False\n",
       "other_salaries        False\n",
       "total_salary          False\n",
       "retirement            False\n",
       "health_and_dental     False\n",
       "other_benefits        False\n",
       "total_benefits        False\n",
       "total_compensation    False\n",
       "dtype: bool"
      ]
     },
     "execution_count": 11,
     "metadata": {},
     "output_type": "execute_result"
    }
   ],
   "source": [
    "employee_compensation_data.isnull().any()"
   ]
  },
  {
   "cell_type": "markdown",
   "id": "4hx5NAc1awc0",
   "metadata": {
    "id": "4hx5NAc1awc0"
   },
   "source": [
    "**Data_Clean:Finding sum of null values**"
   ]
  },
  {
   "cell_type": "code",
   "execution_count": null,
   "id": "91a54d72",
   "metadata": {
    "colab": {
     "base_uri": "https://localhost:8080/"
    },
    "executionInfo": {
     "elapsed": 803,
     "status": "ok",
     "timestamp": 1681523622733,
     "user": {
      "displayName": "Srinu Venuvanka",
      "userId": "07818478530935474505"
     },
     "user_tz": 240
    },
    "id": "91a54d72",
    "outputId": "200ea80a-561a-42c2-96ea-ee80fb24e5e1"
   },
   "outputs": [
    {
     "data": {
      "text/plain": [
       "year_type               0\n",
       "year                    0\n",
       "organization_group      0\n",
       "department_code         2\n",
       "department              2\n",
       "union                 179\n",
       "job_family              0\n",
       "job                     5\n",
       "salaries                0\n",
       "overtime                0\n",
       "other_salaries          0\n",
       "total_salary            0\n",
       "retirement              0\n",
       "health_and_dental       0\n",
       "other_benefits          0\n",
       "total_benefits          0\n",
       "total_compensation      0\n",
       "dtype: int64"
      ]
     },
     "execution_count": 12,
     "metadata": {},
     "output_type": "execute_result"
    }
   ],
   "source": [
    "employee_compensation_data.isnull().sum()"
   ]
  },
  {
   "cell_type": "markdown",
   "id": "KERrtATybCJY",
   "metadata": {
    "id": "KERrtATybCJY"
   },
   "source": [
    "**Data_clean: Dropping NAs from the dataframe**"
   ]
  },
  {
   "cell_type": "code",
   "execution_count": null,
   "id": "51NQ9ykbbQpM",
   "metadata": {
    "colab": {
     "base_uri": "https://localhost:8080/"
    },
    "executionInfo": {
     "elapsed": 1072,
     "status": "ok",
     "timestamp": 1681523623801,
     "user": {
      "displayName": "Srinu Venuvanka",
      "userId": "07818478530935474505"
     },
     "user_tz": 240
    },
    "id": "51NQ9ykbbQpM",
    "outputId": "6ba8dcaf-ed54-416d-d74b-8d556d794eff"
   },
   "outputs": [
    {
     "data": {
      "text/plain": [
       "year_type             False\n",
       "year                  False\n",
       "organization_group    False\n",
       "department_code        True\n",
       "department             True\n",
       "union                  True\n",
       "job_family            False\n",
       "job                    True\n",
       "salaries              False\n",
       "overtime              False\n",
       "other_salaries        False\n",
       "total_salary          False\n",
       "retirement            False\n",
       "health_and_dental     False\n",
       "other_benefits        False\n",
       "total_benefits        False\n",
       "total_compensation    False\n",
       "dtype: bool"
      ]
     },
     "execution_count": 13,
     "metadata": {},
     "output_type": "execute_result"
    }
   ],
   "source": [
    "employee_compensation_data.isna().any()"
   ]
  },
  {
   "cell_type": "code",
   "execution_count": null,
   "id": "68de493d",
   "metadata": {
    "id": "68de493d"
   },
   "outputs": [],
   "source": [
    "employee_compensation_data.dropna(inplace=True)"
   ]
  },
  {
   "cell_type": "code",
   "execution_count": null,
   "id": "7d363b54",
   "metadata": {
    "colab": {
     "base_uri": "https://localhost:8080/"
    },
    "executionInfo": {
     "elapsed": 1472,
     "status": "ok",
     "timestamp": 1681523627169,
     "user": {
      "displayName": "Srinu Venuvanka",
      "userId": "07818478530935474505"
     },
     "user_tz": 240
    },
    "id": "7d363b54",
    "outputId": "ca1df683-e58f-4b39-9445-13a0b329e79e"
   },
   "outputs": [
    {
     "data": {
      "text/plain": [
       "year_type             False\n",
       "year                  False\n",
       "organization_group    False\n",
       "department_code       False\n",
       "department            False\n",
       "union                 False\n",
       "job_family            False\n",
       "job                   False\n",
       "salaries              False\n",
       "overtime              False\n",
       "other_salaries        False\n",
       "total_salary          False\n",
       "retirement            False\n",
       "health_and_dental     False\n",
       "other_benefits        False\n",
       "total_benefits        False\n",
       "total_compensation    False\n",
       "dtype: bool"
      ]
     },
     "execution_count": 15,
     "metadata": {},
     "output_type": "execute_result"
    }
   ],
   "source": [
    "employee_compensation_data.isna().any()"
   ]
  },
  {
   "cell_type": "markdown",
   "id": "iS0m-ZWUebe2",
   "metadata": {
    "id": "iS0m-ZWUebe2"
   },
   "source": [
    "**Display Summary and Data_types**"
   ]
  },
  {
   "cell_type": "code",
   "execution_count": null,
   "id": "TEs_JFaFeadw",
   "metadata": {
    "colab": {
     "base_uri": "https://localhost:8080/"
    },
    "executionInfo": {
     "elapsed": 1247,
     "status": "ok",
     "timestamp": 1681523628411,
     "user": {
      "displayName": "Srinu Venuvanka",
      "userId": "07818478530935474505"
     },
     "user_tz": 240
    },
    "id": "TEs_JFaFeadw",
    "outputId": "d3c6f881-eeda-4887-ca5b-566da9633856"
   },
   "outputs": [
    {
     "name": "stdout",
     "output_type": "stream",
     "text": [
      "<class 'pandas.core.frame.DataFrame'>\n",
      "Int64Index: 799376 entries, 0 to 799561\n",
      "Data columns (total 17 columns):\n",
      " #   Column              Non-Null Count   Dtype  \n",
      "---  ------              --------------   -----  \n",
      " 0   year_type           799376 non-null  object \n",
      " 1   year                799376 non-null  int64  \n",
      " 2   organization_group  799376 non-null  object \n",
      " 3   department_code     799376 non-null  object \n",
      " 4   department          799376 non-null  object \n",
      " 5   union               799376 non-null  object \n",
      " 6   job_family          799376 non-null  object \n",
      " 7   job                 799376 non-null  object \n",
      " 8   salaries            799376 non-null  float64\n",
      " 9   overtime            799376 non-null  float64\n",
      " 10  other_salaries      799376 non-null  float64\n",
      " 11  total_salary        799376 non-null  float64\n",
      " 12  retirement          799376 non-null  float64\n",
      " 13  health_and_dental   799376 non-null  float64\n",
      " 14  other_benefits      799376 non-null  float64\n",
      " 15  total_benefits      799376 non-null  float64\n",
      " 16  total_compensation  799376 non-null  float64\n",
      "dtypes: float64(9), int64(1), object(7)\n",
      "memory usage: 109.8+ MB\n"
     ]
    }
   ],
   "source": [
    "employee_compensation_data.info()"
   ]
  },
  {
   "cell_type": "code",
   "execution_count": null,
   "id": "Vf8yI7wBe3qC",
   "metadata": {
    "colab": {
     "base_uri": "https://localhost:8080/"
    },
    "executionInfo": {
     "elapsed": 27,
     "status": "ok",
     "timestamp": 1681523628413,
     "user": {
      "displayName": "Srinu Venuvanka",
      "userId": "07818478530935474505"
     },
     "user_tz": 240
    },
    "id": "Vf8yI7wBe3qC",
    "outputId": "76911771-c10f-46f1-819f-5d551e58d55d"
   },
   "outputs": [
    {
     "data": {
      "text/plain": [
       "year_type              object\n",
       "year                    int64\n",
       "organization_group     object\n",
       "department_code        object\n",
       "department             object\n",
       "union                  object\n",
       "job_family             object\n",
       "job                    object\n",
       "salaries              float64\n",
       "overtime              float64\n",
       "other_salaries        float64\n",
       "total_salary          float64\n",
       "retirement            float64\n",
       "health_and_dental     float64\n",
       "other_benefits        float64\n",
       "total_benefits        float64\n",
       "total_compensation    float64\n",
       "dtype: object"
      ]
     },
     "execution_count": 17,
     "metadata": {},
     "output_type": "execute_result"
    }
   ],
   "source": [
    "employee_compensation_data.dtypes"
   ]
  },
  {
   "cell_type": "code",
   "execution_count": null,
   "id": "e2JMNCWEf_dT",
   "metadata": {
    "colab": {
     "base_uri": "https://localhost:8080/"
    },
    "executionInfo": {
     "elapsed": 24,
     "status": "ok",
     "timestamp": 1681523628414,
     "user": {
      "displayName": "Srinu Venuvanka",
      "userId": "07818478530935474505"
     },
     "user_tz": 240
    },
    "id": "e2JMNCWEf_dT",
    "outputId": "6120bfed-b15d-4911-f157-cba380ddeac4"
   },
   "outputs": [
    {
     "data": {
      "text/plain": [
       "pandas.core.series.Series"
      ]
     },
     "execution_count": 18,
     "metadata": {},
     "output_type": "execute_result"
    }
   ],
   "source": [
    "type(employee_compensation_data.dtypes)"
   ]
  },
  {
   "cell_type": "code",
   "execution_count": null,
   "id": "meg5BVyYgZOy",
   "metadata": {
    "colab": {
     "base_uri": "https://localhost:8080/",
     "height": 582
    },
    "executionInfo": {
     "elapsed": 21,
     "status": "ok",
     "timestamp": 1681523628415,
     "user": {
      "displayName": "Srinu Venuvanka",
      "userId": "07818478530935474505"
     },
     "user_tz": 240
    },
    "id": "meg5BVyYgZOy",
    "outputId": "c4bb8a4c-4348-47f1-cf1d-143be29714c1"
   },
   "outputs": [
    {
     "data": {
      "text/html": [
       "\n",
       "  <div id=\"df-e965f8cc-15a2-40b1-882f-278a97d1e0bb\">\n",
       "    <div class=\"colab-df-container\">\n",
       "      <div>\n",
       "<style scoped>\n",
       "    .dataframe tbody tr th:only-of-type {\n",
       "        vertical-align: middle;\n",
       "    }\n",
       "\n",
       "    .dataframe tbody tr th {\n",
       "        vertical-align: top;\n",
       "    }\n",
       "\n",
       "    .dataframe thead th {\n",
       "        text-align: right;\n",
       "    }\n",
       "</style>\n",
       "<table border=\"1\" class=\"dataframe\">\n",
       "  <thead>\n",
       "    <tr style=\"text-align: right;\">\n",
       "      <th></th>\n",
       "      <th>0</th>\n",
       "    </tr>\n",
       "  </thead>\n",
       "  <tbody>\n",
       "    <tr>\n",
       "      <th>year_type</th>\n",
       "      <td>object</td>\n",
       "    </tr>\n",
       "    <tr>\n",
       "      <th>year</th>\n",
       "      <td>int64</td>\n",
       "    </tr>\n",
       "    <tr>\n",
       "      <th>organization_group</th>\n",
       "      <td>object</td>\n",
       "    </tr>\n",
       "    <tr>\n",
       "      <th>department_code</th>\n",
       "      <td>object</td>\n",
       "    </tr>\n",
       "    <tr>\n",
       "      <th>department</th>\n",
       "      <td>object</td>\n",
       "    </tr>\n",
       "    <tr>\n",
       "      <th>union</th>\n",
       "      <td>object</td>\n",
       "    </tr>\n",
       "    <tr>\n",
       "      <th>job_family</th>\n",
       "      <td>object</td>\n",
       "    </tr>\n",
       "    <tr>\n",
       "      <th>job</th>\n",
       "      <td>object</td>\n",
       "    </tr>\n",
       "    <tr>\n",
       "      <th>salaries</th>\n",
       "      <td>float64</td>\n",
       "    </tr>\n",
       "    <tr>\n",
       "      <th>overtime</th>\n",
       "      <td>float64</td>\n",
       "    </tr>\n",
       "    <tr>\n",
       "      <th>other_salaries</th>\n",
       "      <td>float64</td>\n",
       "    </tr>\n",
       "    <tr>\n",
       "      <th>total_salary</th>\n",
       "      <td>float64</td>\n",
       "    </tr>\n",
       "    <tr>\n",
       "      <th>retirement</th>\n",
       "      <td>float64</td>\n",
       "    </tr>\n",
       "    <tr>\n",
       "      <th>health_and_dental</th>\n",
       "      <td>float64</td>\n",
       "    </tr>\n",
       "    <tr>\n",
       "      <th>other_benefits</th>\n",
       "      <td>float64</td>\n",
       "    </tr>\n",
       "    <tr>\n",
       "      <th>total_benefits</th>\n",
       "      <td>float64</td>\n",
       "    </tr>\n",
       "    <tr>\n",
       "      <th>total_compensation</th>\n",
       "      <td>float64</td>\n",
       "    </tr>\n",
       "  </tbody>\n",
       "</table>\n",
       "</div>\n",
       "      <button class=\"colab-df-convert\" onclick=\"convertToInteractive('df-e965f8cc-15a2-40b1-882f-278a97d1e0bb')\"\n",
       "              title=\"Convert this dataframe to an interactive table.\"\n",
       "              style=\"display:none;\">\n",
       "        \n",
       "  <svg xmlns=\"http://www.w3.org/2000/svg\" height=\"24px\"viewBox=\"0 0 24 24\"\n",
       "       width=\"24px\">\n",
       "    <path d=\"M0 0h24v24H0V0z\" fill=\"none\"/>\n",
       "    <path d=\"M18.56 5.44l.94 2.06.94-2.06 2.06-.94-2.06-.94-.94-2.06-.94 2.06-2.06.94zm-11 1L8.5 8.5l.94-2.06 2.06-.94-2.06-.94L8.5 2.5l-.94 2.06-2.06.94zm10 10l.94 2.06.94-2.06 2.06-.94-2.06-.94-.94-2.06-.94 2.06-2.06.94z\"/><path d=\"M17.41 7.96l-1.37-1.37c-.4-.4-.92-.59-1.43-.59-.52 0-1.04.2-1.43.59L10.3 9.45l-7.72 7.72c-.78.78-.78 2.05 0 2.83L4 21.41c.39.39.9.59 1.41.59.51 0 1.02-.2 1.41-.59l7.78-7.78 2.81-2.81c.8-.78.8-2.07 0-2.86zM5.41 20L4 18.59l7.72-7.72 1.47 1.35L5.41 20z\"/>\n",
       "  </svg>\n",
       "      </button>\n",
       "      \n",
       "  <style>\n",
       "    .colab-df-container {\n",
       "      display:flex;\n",
       "      flex-wrap:wrap;\n",
       "      gap: 12px;\n",
       "    }\n",
       "\n",
       "    .colab-df-convert {\n",
       "      background-color: #E8F0FE;\n",
       "      border: none;\n",
       "      border-radius: 50%;\n",
       "      cursor: pointer;\n",
       "      display: none;\n",
       "      fill: #1967D2;\n",
       "      height: 32px;\n",
       "      padding: 0 0 0 0;\n",
       "      width: 32px;\n",
       "    }\n",
       "\n",
       "    .colab-df-convert:hover {\n",
       "      background-color: #E2EBFA;\n",
       "      box-shadow: 0px 1px 2px rgba(60, 64, 67, 0.3), 0px 1px 3px 1px rgba(60, 64, 67, 0.15);\n",
       "      fill: #174EA6;\n",
       "    }\n",
       "\n",
       "    [theme=dark] .colab-df-convert {\n",
       "      background-color: #3B4455;\n",
       "      fill: #D2E3FC;\n",
       "    }\n",
       "\n",
       "    [theme=dark] .colab-df-convert:hover {\n",
       "      background-color: #434B5C;\n",
       "      box-shadow: 0px 1px 3px 1px rgba(0, 0, 0, 0.15);\n",
       "      filter: drop-shadow(0px 1px 2px rgba(0, 0, 0, 0.3));\n",
       "      fill: #FFFFFF;\n",
       "    }\n",
       "  </style>\n",
       "\n",
       "      <script>\n",
       "        const buttonEl =\n",
       "          document.querySelector('#df-e965f8cc-15a2-40b1-882f-278a97d1e0bb button.colab-df-convert');\n",
       "        buttonEl.style.display =\n",
       "          google.colab.kernel.accessAllowed ? 'block' : 'none';\n",
       "\n",
       "        async function convertToInteractive(key) {\n",
       "          const element = document.querySelector('#df-e965f8cc-15a2-40b1-882f-278a97d1e0bb');\n",
       "          const dataTable =\n",
       "            await google.colab.kernel.invokeFunction('convertToInteractive',\n",
       "                                                     [key], {});\n",
       "          if (!dataTable) return;\n",
       "\n",
       "          const docLinkHtml = 'Like what you see? Visit the ' +\n",
       "            '<a target=\"_blank\" href=https://colab.research.google.com/notebooks/data_table.ipynb>data table notebook</a>'\n",
       "            + ' to learn more about interactive tables.';\n",
       "          element.innerHTML = '';\n",
       "          dataTable['output_type'] = 'display_data';\n",
       "          await google.colab.output.renderOutput(dataTable, element);\n",
       "          const docLink = document.createElement('div');\n",
       "          docLink.innerHTML = docLinkHtml;\n",
       "          element.appendChild(docLink);\n",
       "        }\n",
       "      </script>\n",
       "    </div>\n",
       "  </div>\n",
       "  "
      ],
      "text/plain": [
       "                          0\n",
       "year_type            object\n",
       "year                  int64\n",
       "organization_group   object\n",
       "department_code      object\n",
       "department           object\n",
       "union                object\n",
       "job_family           object\n",
       "job                  object\n",
       "salaries            float64\n",
       "overtime            float64\n",
       "other_salaries      float64\n",
       "total_salary        float64\n",
       "retirement          float64\n",
       "health_and_dental   float64\n",
       "other_benefits      float64\n",
       "total_benefits      float64\n",
       "total_compensation  float64"
      ]
     },
     "execution_count": 19,
     "metadata": {},
     "output_type": "execute_result"
    }
   ],
   "source": [
    "dtypesdf= pd.DataFrame(employee_compensation_data.dtypes)\n",
    "dtypesdf"
   ]
  },
  {
   "cell_type": "markdown",
   "id": "CQE-8xgszBKw",
   "metadata": {
    "id": "CQE-8xgszBKw"
   },
   "source": [
    "**Just to demonstrate with a regular expression**"
   ]
  },
  {
   "cell_type": "code",
   "execution_count": null,
   "id": "-EyeXrdvQnxZ",
   "metadata": {
    "colab": {
     "base_uri": "https://localhost:8080/",
     "height": 870
    },
    "executionInfo": {
     "elapsed": 631,
     "status": "ok",
     "timestamp": 1681523629033,
     "user": {
      "displayName": "Srinu Venuvanka",
      "userId": "07818478530935474505"
     },
     "user_tz": 240
    },
    "id": "-EyeXrdvQnxZ",
    "outputId": "eafb9f6f-d49c-4f74-c82c-be2251be7255"
   },
   "outputs": [
    {
     "data": {
      "text/html": [
       "\n",
       "  <div id=\"df-e7de3b45-4e2f-4cab-8869-ad989df052c9\">\n",
       "    <div class=\"colab-df-container\">\n",
       "      <div>\n",
       "<style scoped>\n",
       "    .dataframe tbody tr th:only-of-type {\n",
       "        vertical-align: middle;\n",
       "    }\n",
       "\n",
       "    .dataframe tbody tr th {\n",
       "        vertical-align: top;\n",
       "    }\n",
       "\n",
       "    .dataframe thead th {\n",
       "        text-align: right;\n",
       "    }\n",
       "</style>\n",
       "<table border=\"1\" class=\"dataframe\">\n",
       "  <thead>\n",
       "    <tr style=\"text-align: right;\">\n",
       "      <th></th>\n",
       "      <th>year_type</th>\n",
       "      <th>year</th>\n",
       "      <th>organization_group</th>\n",
       "      <th>department_code</th>\n",
       "      <th>department</th>\n",
       "      <th>union</th>\n",
       "      <th>job_family</th>\n",
       "      <th>job</th>\n",
       "      <th>salaries</th>\n",
       "      <th>overtime</th>\n",
       "      <th>other_salaries</th>\n",
       "      <th>total_salary</th>\n",
       "      <th>retirement</th>\n",
       "      <th>health_and_dental</th>\n",
       "      <th>other_benefits</th>\n",
       "      <th>total_benefits</th>\n",
       "      <th>total_compensation</th>\n",
       "    </tr>\n",
       "  </thead>\n",
       "  <tbody>\n",
       "    <tr>\n",
       "      <th>2019</th>\n",
       "      <td>Calendar</td>\n",
       "      <td>2018</td>\n",
       "      <td>General Administration &amp; Finance</td>\n",
       "      <td>TIS</td>\n",
       "      <td>Department of Technology</td>\n",
       "      <td>Prof &amp; Tech Eng, Local 21</td>\n",
       "      <td>Information Systems</td>\n",
       "      <td>IS Engineer-Principal</td>\n",
       "      <td>158420.02</td>\n",
       "      <td>0.00</td>\n",
       "      <td>0.00</td>\n",
       "      <td>158420.02</td>\n",
       "      <td>29624.08</td>\n",
       "      <td>14433.94</td>\n",
       "      <td>11031.82</td>\n",
       "      <td>55089.84</td>\n",
       "      <td>213509.86</td>\n",
       "    </tr>\n",
       "    <tr>\n",
       "      <th>12019</th>\n",
       "      <td>Fiscal</td>\n",
       "      <td>2017</td>\n",
       "      <td>Public Works, Transportation &amp; Commerce</td>\n",
       "      <td>MTA</td>\n",
       "      <td>Municipal Transportation Agcy</td>\n",
       "      <td>TWU, Local 250-A, TransitOpr</td>\n",
       "      <td>Street Transit</td>\n",
       "      <td>Transit Operator</td>\n",
       "      <td>74356.14</td>\n",
       "      <td>9815.69</td>\n",
       "      <td>4244.69</td>\n",
       "      <td>88416.52</td>\n",
       "      <td>14791.40</td>\n",
       "      <td>15008.86</td>\n",
       "      <td>6546.31</td>\n",
       "      <td>36346.57</td>\n",
       "      <td>124763.09</td>\n",
       "    </tr>\n",
       "    <tr>\n",
       "      <th>20190</th>\n",
       "      <td>Calendar</td>\n",
       "      <td>2020</td>\n",
       "      <td>Public Works, Transportation &amp; Commerce</td>\n",
       "      <td>MTA</td>\n",
       "      <td>Municipal Transportation Agcy</td>\n",
       "      <td>SEIU, Local 1021, Misc</td>\n",
       "      <td>Public Service Aide</td>\n",
       "      <td>Public Service Aide-Admin</td>\n",
       "      <td>43902.43</td>\n",
       "      <td>908.53</td>\n",
       "      <td>940.14</td>\n",
       "      <td>45751.10</td>\n",
       "      <td>11238.20</td>\n",
       "      <td>16220.90</td>\n",
       "      <td>3780.33</td>\n",
       "      <td>31239.43</td>\n",
       "      <td>76990.53</td>\n",
       "    </tr>\n",
       "    <tr>\n",
       "      <th>20191</th>\n",
       "      <td>Calendar</td>\n",
       "      <td>2020</td>\n",
       "      <td>Human Welfare &amp; Neighborhood Development</td>\n",
       "      <td>HSA</td>\n",
       "      <td>Human Services</td>\n",
       "      <td>SEIU, Local 1021, Misc</td>\n",
       "      <td>Clerical, Secretarial &amp; Steno</td>\n",
       "      <td>Senior Clerk Typist</td>\n",
       "      <td>70739.89</td>\n",
       "      <td>366.27</td>\n",
       "      <td>1112.24</td>\n",
       "      <td>72218.40</td>\n",
       "      <td>15587.98</td>\n",
       "      <td>15321.06</td>\n",
       "      <td>5635.45</td>\n",
       "      <td>36544.49</td>\n",
       "      <td>108762.89</td>\n",
       "    </tr>\n",
       "    <tr>\n",
       "      <th>20192</th>\n",
       "      <td>Calendar</td>\n",
       "      <td>2020</td>\n",
       "      <td>Human Welfare &amp; Neighborhood Development</td>\n",
       "      <td>HSA</td>\n",
       "      <td>Human Services</td>\n",
       "      <td>SEIU, Local 1021, Misc</td>\n",
       "      <td>Human Services</td>\n",
       "      <td>Social Work Specialist</td>\n",
       "      <td>99776.05</td>\n",
       "      <td>24031.76</td>\n",
       "      <td>2254.00</td>\n",
       "      <td>126061.81</td>\n",
       "      <td>22118.84</td>\n",
       "      <td>15615.36</td>\n",
       "      <td>9957.98</td>\n",
       "      <td>47692.18</td>\n",
       "      <td>173753.99</td>\n",
       "    </tr>\n",
       "    <tr>\n",
       "      <th>...</th>\n",
       "      <td>...</td>\n",
       "      <td>...</td>\n",
       "      <td>...</td>\n",
       "      <td>...</td>\n",
       "      <td>...</td>\n",
       "      <td>...</td>\n",
       "      <td>...</td>\n",
       "      <td>...</td>\n",
       "      <td>...</td>\n",
       "      <td>...</td>\n",
       "      <td>...</td>\n",
       "      <td>...</td>\n",
       "      <td>...</td>\n",
       "      <td>...</td>\n",
       "      <td>...</td>\n",
       "      <td>...</td>\n",
       "      <td>...</td>\n",
       "    </tr>\n",
       "    <tr>\n",
       "      <th>752019</th>\n",
       "      <td>Fiscal</td>\n",
       "      <td>2016</td>\n",
       "      <td>Public Protection</td>\n",
       "      <td>ECD</td>\n",
       "      <td>DEM Emergency Management</td>\n",
       "      <td>Prof &amp; Tech Engineers - Personnel, Local 21</td>\n",
       "      <td>Personnel</td>\n",
       "      <td>Personnel Analyst</td>\n",
       "      <td>50901.83</td>\n",
       "      <td>0.00</td>\n",
       "      <td>0.00</td>\n",
       "      <td>50901.83</td>\n",
       "      <td>9472.84</td>\n",
       "      <td>9420.66</td>\n",
       "      <td>4044.40</td>\n",
       "      <td>22937.90</td>\n",
       "      <td>73839.73</td>\n",
       "    </tr>\n",
       "    <tr>\n",
       "      <th>762019</th>\n",
       "      <td>Calendar</td>\n",
       "      <td>2016</td>\n",
       "      <td>Community Health</td>\n",
       "      <td>DPH</td>\n",
       "      <td>DPH Public Health</td>\n",
       "      <td>SEIU - Miscellaneous, Local 1021</td>\n",
       "      <td>Clerical, Secretarial &amp; Steno</td>\n",
       "      <td>Senior Clerk</td>\n",
       "      <td>17136.20</td>\n",
       "      <td>0.00</td>\n",
       "      <td>0.00</td>\n",
       "      <td>17136.20</td>\n",
       "      <td>0.00</td>\n",
       "      <td>4834.15</td>\n",
       "      <td>1373.95</td>\n",
       "      <td>6208.10</td>\n",
       "      <td>23344.30</td>\n",
       "    </tr>\n",
       "    <tr>\n",
       "      <th>772019</th>\n",
       "      <td>Calendar</td>\n",
       "      <td>2015</td>\n",
       "      <td>Public Protection</td>\n",
       "      <td>POL</td>\n",
       "      <td>POL Police</td>\n",
       "      <td>Police Officers' Association</td>\n",
       "      <td>Police Services</td>\n",
       "      <td>Police Officer 2</td>\n",
       "      <td>22420.00</td>\n",
       "      <td>525.48</td>\n",
       "      <td>353.72</td>\n",
       "      <td>23299.20</td>\n",
       "      <td>4845.15</td>\n",
       "      <td>2389.33</td>\n",
       "      <td>392.93</td>\n",
       "      <td>7627.41</td>\n",
       "      <td>30926.61</td>\n",
       "    </tr>\n",
       "    <tr>\n",
       "      <th>782019</th>\n",
       "      <td>Calendar</td>\n",
       "      <td>2013</td>\n",
       "      <td>Public Protection</td>\n",
       "      <td>FIR</td>\n",
       "      <td>FIR Fire Department</td>\n",
       "      <td>Firefighters - Miscellaneous, Local 798</td>\n",
       "      <td>Fire Services</td>\n",
       "      <td>Captain, Fire Suppression</td>\n",
       "      <td>152581.18</td>\n",
       "      <td>86631.04</td>\n",
       "      <td>25753.84</td>\n",
       "      <td>264966.06</td>\n",
       "      <td>33564.28</td>\n",
       "      <td>15525.10</td>\n",
       "      <td>4612.90</td>\n",
       "      <td>53702.28</td>\n",
       "      <td>318668.34</td>\n",
       "    </tr>\n",
       "    <tr>\n",
       "      <th>792019</th>\n",
       "      <td>Fiscal</td>\n",
       "      <td>2015</td>\n",
       "      <td>Public Works, Transportation &amp; Commerce</td>\n",
       "      <td>MTA</td>\n",
       "      <td>MTA Municipal Transprtn Agncy</td>\n",
       "      <td>SEIU - Miscellaneous, Local 1021</td>\n",
       "      <td>Protection &amp; Apprehension</td>\n",
       "      <td>School Crossing Guard</td>\n",
       "      <td>11488.84</td>\n",
       "      <td>0.00</td>\n",
       "      <td>61.31</td>\n",
       "      <td>11550.15</td>\n",
       "      <td>0.00</td>\n",
       "      <td>4232.71</td>\n",
       "      <td>904.60</td>\n",
       "      <td>5137.31</td>\n",
       "      <td>16687.46</td>\n",
       "    </tr>\n",
       "  </tbody>\n",
       "</table>\n",
       "<p>260 rows × 17 columns</p>\n",
       "</div>\n",
       "      <button class=\"colab-df-convert\" onclick=\"convertToInteractive('df-e7de3b45-4e2f-4cab-8869-ad989df052c9')\"\n",
       "              title=\"Convert this dataframe to an interactive table.\"\n",
       "              style=\"display:none;\">\n",
       "        \n",
       "  <svg xmlns=\"http://www.w3.org/2000/svg\" height=\"24px\"viewBox=\"0 0 24 24\"\n",
       "       width=\"24px\">\n",
       "    <path d=\"M0 0h24v24H0V0z\" fill=\"none\"/>\n",
       "    <path d=\"M18.56 5.44l.94 2.06.94-2.06 2.06-.94-2.06-.94-.94-2.06-.94 2.06-2.06.94zm-11 1L8.5 8.5l.94-2.06 2.06-.94-2.06-.94L8.5 2.5l-.94 2.06-2.06.94zm10 10l.94 2.06.94-2.06 2.06-.94-2.06-.94-.94-2.06-.94 2.06-2.06.94z\"/><path d=\"M17.41 7.96l-1.37-1.37c-.4-.4-.92-.59-1.43-.59-.52 0-1.04.2-1.43.59L10.3 9.45l-7.72 7.72c-.78.78-.78 2.05 0 2.83L4 21.41c.39.39.9.59 1.41.59.51 0 1.02-.2 1.41-.59l7.78-7.78 2.81-2.81c.8-.78.8-2.07 0-2.86zM5.41 20L4 18.59l7.72-7.72 1.47 1.35L5.41 20z\"/>\n",
       "  </svg>\n",
       "      </button>\n",
       "      \n",
       "  <style>\n",
       "    .colab-df-container {\n",
       "      display:flex;\n",
       "      flex-wrap:wrap;\n",
       "      gap: 12px;\n",
       "    }\n",
       "\n",
       "    .colab-df-convert {\n",
       "      background-color: #E8F0FE;\n",
       "      border: none;\n",
       "      border-radius: 50%;\n",
       "      cursor: pointer;\n",
       "      display: none;\n",
       "      fill: #1967D2;\n",
       "      height: 32px;\n",
       "      padding: 0 0 0 0;\n",
       "      width: 32px;\n",
       "    }\n",
       "\n",
       "    .colab-df-convert:hover {\n",
       "      background-color: #E2EBFA;\n",
       "      box-shadow: 0px 1px 2px rgba(60, 64, 67, 0.3), 0px 1px 3px 1px rgba(60, 64, 67, 0.15);\n",
       "      fill: #174EA6;\n",
       "    }\n",
       "\n",
       "    [theme=dark] .colab-df-convert {\n",
       "      background-color: #3B4455;\n",
       "      fill: #D2E3FC;\n",
       "    }\n",
       "\n",
       "    [theme=dark] .colab-df-convert:hover {\n",
       "      background-color: #434B5C;\n",
       "      box-shadow: 0px 1px 3px 1px rgba(0, 0, 0, 0.15);\n",
       "      filter: drop-shadow(0px 1px 2px rgba(0, 0, 0, 0.3));\n",
       "      fill: #FFFFFF;\n",
       "    }\n",
       "  </style>\n",
       "\n",
       "      <script>\n",
       "        const buttonEl =\n",
       "          document.querySelector('#df-e7de3b45-4e2f-4cab-8869-ad989df052c9 button.colab-df-convert');\n",
       "        buttonEl.style.display =\n",
       "          google.colab.kernel.accessAllowed ? 'block' : 'none';\n",
       "\n",
       "        async function convertToInteractive(key) {\n",
       "          const element = document.querySelector('#df-e7de3b45-4e2f-4cab-8869-ad989df052c9');\n",
       "          const dataTable =\n",
       "            await google.colab.kernel.invokeFunction('convertToInteractive',\n",
       "                                                     [key], {});\n",
       "          if (!dataTable) return;\n",
       "\n",
       "          const docLinkHtml = 'Like what you see? Visit the ' +\n",
       "            '<a target=\"_blank\" href=https://colab.research.google.com/notebooks/data_table.ipynb>data table notebook</a>'\n",
       "            + ' to learn more about interactive tables.';\n",
       "          element.innerHTML = '';\n",
       "          dataTable['output_type'] = 'display_data';\n",
       "          await google.colab.output.renderOutput(dataTable, element);\n",
       "          const docLink = document.createElement('div');\n",
       "          docLink.innerHTML = docLinkHtml;\n",
       "          element.appendChild(docLink);\n",
       "        }\n",
       "      </script>\n",
       "    </div>\n",
       "  </div>\n",
       "  "
      ],
      "text/plain": [
       "       year_type  year                        organization_group  \\\n",
       "2019    Calendar  2018          General Administration & Finance   \n",
       "12019     Fiscal  2017   Public Works, Transportation & Commerce   \n",
       "20190   Calendar  2020   Public Works, Transportation & Commerce   \n",
       "20191   Calendar  2020  Human Welfare & Neighborhood Development   \n",
       "20192   Calendar  2020  Human Welfare & Neighborhood Development   \n",
       "...          ...   ...                                       ...   \n",
       "752019    Fiscal  2016                         Public Protection   \n",
       "762019  Calendar  2016                          Community Health   \n",
       "772019  Calendar  2015                         Public Protection   \n",
       "782019  Calendar  2013                         Public Protection   \n",
       "792019    Fiscal  2015   Public Works, Transportation & Commerce   \n",
       "\n",
       "       department_code                     department  \\\n",
       "2019               TIS       Department of Technology   \n",
       "12019              MTA  Municipal Transportation Agcy   \n",
       "20190              MTA  Municipal Transportation Agcy   \n",
       "20191              HSA                 Human Services   \n",
       "20192              HSA                 Human Services   \n",
       "...                ...                            ...   \n",
       "752019             ECD       DEM Emergency Management   \n",
       "762019             DPH              DPH Public Health   \n",
       "772019             POL                     POL Police   \n",
       "782019             FIR            FIR Fire Department   \n",
       "792019             MTA  MTA Municipal Transprtn Agncy   \n",
       "\n",
       "                                              union  \\\n",
       "2019                      Prof & Tech Eng, Local 21   \n",
       "12019                  TWU, Local 250-A, TransitOpr   \n",
       "20190                        SEIU, Local 1021, Misc   \n",
       "20191                        SEIU, Local 1021, Misc   \n",
       "20192                        SEIU, Local 1021, Misc   \n",
       "...                                             ...   \n",
       "752019  Prof & Tech Engineers - Personnel, Local 21   \n",
       "762019             SEIU - Miscellaneous, Local 1021   \n",
       "772019                 Police Officers' Association   \n",
       "782019      Firefighters - Miscellaneous, Local 798   \n",
       "792019             SEIU - Miscellaneous, Local 1021   \n",
       "\n",
       "                           job_family                        job   salaries  \\\n",
       "2019              Information Systems      IS Engineer-Principal  158420.02   \n",
       "12019                  Street Transit           Transit Operator   74356.14   \n",
       "20190             Public Service Aide  Public Service Aide-Admin   43902.43   \n",
       "20191   Clerical, Secretarial & Steno        Senior Clerk Typist   70739.89   \n",
       "20192                  Human Services     Social Work Specialist   99776.05   \n",
       "...                               ...                        ...        ...   \n",
       "752019                      Personnel          Personnel Analyst   50901.83   \n",
       "762019  Clerical, Secretarial & Steno               Senior Clerk   17136.20   \n",
       "772019                Police Services           Police Officer 2   22420.00   \n",
       "782019                  Fire Services  Captain, Fire Suppression  152581.18   \n",
       "792019      Protection & Apprehension      School Crossing Guard   11488.84   \n",
       "\n",
       "        overtime  other_salaries  total_salary  retirement  health_and_dental  \\\n",
       "2019        0.00            0.00     158420.02    29624.08           14433.94   \n",
       "12019    9815.69         4244.69      88416.52    14791.40           15008.86   \n",
       "20190     908.53          940.14      45751.10    11238.20           16220.90   \n",
       "20191     366.27         1112.24      72218.40    15587.98           15321.06   \n",
       "20192   24031.76         2254.00     126061.81    22118.84           15615.36   \n",
       "...          ...             ...           ...         ...                ...   \n",
       "752019      0.00            0.00      50901.83     9472.84            9420.66   \n",
       "762019      0.00            0.00      17136.20        0.00            4834.15   \n",
       "772019    525.48          353.72      23299.20     4845.15            2389.33   \n",
       "782019  86631.04        25753.84     264966.06    33564.28           15525.10   \n",
       "792019      0.00           61.31      11550.15        0.00            4232.71   \n",
       "\n",
       "        other_benefits  total_benefits  total_compensation  \n",
       "2019          11031.82        55089.84           213509.86  \n",
       "12019          6546.31        36346.57           124763.09  \n",
       "20190          3780.33        31239.43            76990.53  \n",
       "20191          5635.45        36544.49           108762.89  \n",
       "20192          9957.98        47692.18           173753.99  \n",
       "...                ...             ...                 ...  \n",
       "752019         4044.40        22937.90            73839.73  \n",
       "762019         1373.95         6208.10            23344.30  \n",
       "772019          392.93         7627.41            30926.61  \n",
       "782019         4612.90        53702.28           318668.34  \n",
       "792019          904.60         5137.31            16687.46  \n",
       "\n",
       "[260 rows x 17 columns]"
      ]
     },
     "execution_count": 22,
     "metadata": {},
     "output_type": "execute_result"
    }
   ],
   "source": [
    "employee_compensation_data.filter(regex='2019', axis=0)"
   ]
  },
  {
   "cell_type": "markdown",
   "id": "64PxG0yXzQFy",
   "metadata": {
    "id": "64PxG0yXzQFy"
   },
   "source": [
    "**count the values in a particular column(Organization group)**"
   ]
  },
  {
   "cell_type": "code",
   "execution_count": null,
   "id": "yVhh11vUn0hf",
   "metadata": {
    "colab": {
     "base_uri": "https://localhost:8080/"
    },
    "executionInfo": {
     "elapsed": 184,
     "status": "ok",
     "timestamp": 1681523629213,
     "user": {
      "displayName": "Srinu Venuvanka",
      "userId": "07818478530935474505"
     },
     "user_tz": 240
    },
    "id": "yVhh11vUn0hf",
    "outputId": "05728cb7-31e7-4d77-9b1b-062cef790a09"
   },
   "outputs": [
    {
     "data": {
      "text/plain": [
       "Public Works, Transportation & Commerce     252080\n",
       "Community Health                            178359\n",
       "Public Protection                           153788\n",
       "General Administration & Finance             73905\n",
       "Human Welfare & Neighborhood Development     70495\n",
       "Culture & Recreation                         70358\n",
       "General City Responsibilities                  391\n",
       "Name: organization_group, dtype: int64"
      ]
     },
     "execution_count": 23,
     "metadata": {},
     "output_type": "execute_result"
    }
   ],
   "source": [
    "ogr_grp_values=employee_compensation_data.organization_group.value_counts()\n",
    "ogr_grp_values"
   ]
  },
  {
   "cell_type": "markdown",
   "id": "d1ve-o5Ez3X5",
   "metadata": {
    "id": "d1ve-o5Ez3X5"
   },
   "source": [
    "**Calculate the percentage for above column**"
   ]
  },
  {
   "cell_type": "code",
   "execution_count": null,
   "id": "WEIPOf84oPYd",
   "metadata": {
    "colab": {
     "base_uri": "https://localhost:8080/"
    },
    "executionInfo": {
     "elapsed": 11,
     "status": "ok",
     "timestamp": 1681523629214,
     "user": {
      "displayName": "Srinu Venuvanka",
      "userId": "07818478530935474505"
     },
     "user_tz": 240
    },
    "id": "WEIPOf84oPYd",
    "outputId": "3c3f557f-25eb-4013-a9da-ea38440a93d6"
   },
   "outputs": [
    {
     "data": {
      "text/plain": [
       "Public Works, Transportation & Commerce     0.315346\n",
       "Community Health                            0.223123\n",
       "Public Protection                           0.192385\n",
       "General Administration & Finance            0.092453\n",
       "Human Welfare & Neighborhood Development    0.088188\n",
       "Culture & Recreation                        0.088016\n",
       "General City Responsibilities               0.000489\n",
       "Name: organization_group, dtype: float64"
      ]
     },
     "execution_count": 24,
     "metadata": {},
     "output_type": "execute_result"
    }
   ],
   "source": [
    "org_grp_percentage=employee_compensation_data.organization_group.value_counts()/employee_compensation_data.shape[0]\n",
    "org_grp_percentage"
   ]
  },
  {
   "cell_type": "code",
   "execution_count": null,
   "id": "-RMYOMNEpLJI",
   "metadata": {
    "colab": {
     "base_uri": "https://localhost:8080/"
    },
    "executionInfo": {
     "elapsed": 9,
     "status": "ok",
     "timestamp": 1681523629215,
     "user": {
      "displayName": "Srinu Venuvanka",
      "userId": "07818478530935474505"
     },
     "user_tz": 240
    },
    "id": "-RMYOMNEpLJI",
    "outputId": "43ad5cc2-0d87-47a9-8260-2a63b0a75163"
   },
   "outputs": [
    {
     "data": {
      "text/plain": [
       "Nursing                           0.105744\n",
       "Street Transit                    0.084078\n",
       "Police Services                   0.061165\n",
       "Journeyman Trade                  0.058476\n",
       "Human Services                    0.052263\n",
       "Clerical, Secretarial & Steno     0.043519\n",
       "Public Service Aide               0.042474\n",
       "Fire Services                     0.041769\n",
       "Housekeeping & Laundry            0.033003\n",
       "Budget, Admn & Stats Analysis     0.030864\n",
       "Management                        0.030825\n",
       "Protection & Apprehension         0.029488\n",
       "Professional Engineering          0.028931\n",
       "Recreation                        0.027256\n",
       "Correction & Detention            0.026412\n",
       "Information Systems               0.025321\n",
       "Legal & Court                     0.022706\n",
       "Med Therapy & Auxiliary           0.021005\n",
       "Payroll, Billing & Accounting     0.019685\n",
       "Library                           0.018215\n",
       "Lab, Pharmacy & Med Techs         0.017475\n",
       "Personnel                         0.014759\n",
       "Semi-Skilled & General Labor      0.012990\n",
       "Sub-Professional Engineering      0.012004\n",
       "Untitled                          0.011469\n",
       "Agriculture & Horticulture        0.010847\n",
       "Airport Operation                 0.009923\n",
       "Supervisory-Labor & Trade         0.009663\n",
       "Skilled Labor                     0.008525\n",
       "Community Development             0.007915\n",
       "Medical & Dental                  0.007561\n",
       "Dietary & Food                    0.007291\n",
       "SF Superior Court                 0.005926\n",
       "Construction Inspection           0.005631\n",
       "Purchasing & Storekeeping         0.005618\n",
       "Probation & Parole                0.004687\n",
       "Appraisal & Taxation              0.004461\n",
       "Pub Relations & Spec Assts        0.004425\n",
       "Energy & Environment              0.004331\n",
       "Public Health                     0.004147\n",
       "Hospital Administration           0.003881\n",
       "Computer Operatns & Repro Svcs    0.003789\n",
       "Health & Sanitation Inspection    0.003244\n",
       "Public Safety Inspection          0.003221\n",
       "Park & Zoo                        0.002677\n",
       "Revenue                           0.002271\n",
       "Construction Project Mgmt         0.002129\n",
       "Museum & Cultural Affairs         0.001614\n",
       "Administrative-DPW/PUC            0.001036\n",
       "MTA Operations                    0.000657\n",
       "Administrative-Labor & Trades     0.000634\n",
       "Property Administration           0.000404\n",
       "Port Operation                    0.000332\n",
       "Emergency Coordination            0.000309\n",
       "Administrative & Mgmt (Unrep)     0.000290\n",
       "Emergency Services                0.000191\n",
       "Unassigned                        0.000180\n",
       "Administrative Secretarial        0.000171\n",
       "SF Redevelopment Agency           0.000121\n",
       "Name: job_family, dtype: float64"
      ]
     },
     "execution_count": 25,
     "metadata": {},
     "output_type": "execute_result"
    }
   ],
   "source": [
    "# categories expressed in terms of \"relative frequency\"\n",
    "employee_compensation_data.job_family.value_counts(normalize=True)"
   ]
  },
  {
   "cell_type": "code",
   "execution_count": null,
   "id": "c662ed4a",
   "metadata": {
    "colab": {
     "base_uri": "https://localhost:8080/"
    },
    "executionInfo": {
     "elapsed": 375,
     "status": "ok",
     "timestamp": 1681523636562,
     "user": {
      "displayName": "Srinu Venuvanka",
      "userId": "07818478530935474505"
     },
     "user_tz": 240
    },
    "id": "c662ed4a",
    "outputId": "b856d5ee-3782-4add-af9c-fc9b57d5b6cb"
   },
   "outputs": [
    {
     "data": {
      "text/plain": [
       "organization_group                       department                  \n",
       "Community Health                         DPH Public Health                73093\n",
       "                                         Public Health                   105266\n",
       "Culture & Recreation                     AAM Asian Art Museum               662\n",
       "                                         ART Arts Commission                356\n",
       "                                         Academy Of Sciences                137\n",
       "                                                                          ...  \n",
       "Public Works, Transportation & Commerce  PUB Public Utilities Bureaus      7732\n",
       "                                         Port                              3226\n",
       "                                         Public Utilities Commission      27635\n",
       "                                         WTR Water Enterprise              6761\n",
       "                                         WWE Wastewater Enterprise         4819\n",
       "Name: year_type, Length: 110, dtype: int64"
      ]
     },
     "execution_count": 42,
     "metadata": {},
     "output_type": "execute_result"
    }
   ],
   "source": [
    "employee_compensation_data.groupby(['organization_group', 'department'])['year_type'].count()"
   ]
  },
  {
   "cell_type": "markdown",
   "id": "tG_daFBH1v1J",
   "metadata": {
    "id": "tG_daFBH1v1J"
   },
   "source": [
    "**Applying filters**"
   ]
  },
  {
   "cell_type": "code",
   "execution_count": null,
   "id": "yjJJsZszTWL9",
   "metadata": {
    "colab": {
     "base_uri": "https://localhost:8080/",
     "height": 783
    },
    "executionInfo": {
     "elapsed": 17,
     "status": "ok",
     "timestamp": 1681523636563,
     "user": {
      "displayName": "Srinu Venuvanka",
      "userId": "07818478530935474505"
     },
     "user_tz": 240
    },
    "id": "yjJJsZszTWL9",
    "outputId": "df741103-44c7-4d18-b8f5-056b5622caea"
   },
   "outputs": [
    {
     "data": {
      "text/html": [
       "\n",
       "  <div id=\"df-1dabc58b-8d7d-448b-8be2-69ee7366405a\">\n",
       "    <div class=\"colab-df-container\">\n",
       "      <div>\n",
       "<style scoped>\n",
       "    .dataframe tbody tr th:only-of-type {\n",
       "        vertical-align: middle;\n",
       "    }\n",
       "\n",
       "    .dataframe tbody tr th {\n",
       "        vertical-align: top;\n",
       "    }\n",
       "\n",
       "    .dataframe thead th {\n",
       "        text-align: right;\n",
       "    }\n",
       "</style>\n",
       "<table border=\"1\" class=\"dataframe\">\n",
       "  <thead>\n",
       "    <tr style=\"text-align: right;\">\n",
       "      <th></th>\n",
       "      <th>year_type</th>\n",
       "      <th>year</th>\n",
       "      <th>organization_group</th>\n",
       "      <th>department_code</th>\n",
       "      <th>department</th>\n",
       "      <th>union</th>\n",
       "      <th>job_family</th>\n",
       "      <th>job</th>\n",
       "      <th>salaries</th>\n",
       "      <th>overtime</th>\n",
       "      <th>other_salaries</th>\n",
       "      <th>total_salary</th>\n",
       "      <th>retirement</th>\n",
       "      <th>health_and_dental</th>\n",
       "      <th>other_benefits</th>\n",
       "      <th>total_benefits</th>\n",
       "      <th>total_compensation</th>\n",
       "    </tr>\n",
       "  </thead>\n",
       "  <tbody>\n",
       "    <tr>\n",
       "      <th>41</th>\n",
       "      <td>Fiscal</td>\n",
       "      <td>2019</td>\n",
       "      <td>Public Protection</td>\n",
       "      <td>POL</td>\n",
       "      <td>Police</td>\n",
       "      <td>POA</td>\n",
       "      <td>Police Services</td>\n",
       "      <td>Lieutenant 3</td>\n",
       "      <td>172312.69</td>\n",
       "      <td>17676.27</td>\n",
       "      <td>10582.90</td>\n",
       "      <td>200571.86</td>\n",
       "      <td>31465.64</td>\n",
       "      <td>15645.17</td>\n",
       "      <td>3328.03</td>\n",
       "      <td>50438.84</td>\n",
       "      <td>251010.70</td>\n",
       "    </tr>\n",
       "    <tr>\n",
       "      <th>46</th>\n",
       "      <td>Fiscal</td>\n",
       "      <td>2019</td>\n",
       "      <td>Public Protection</td>\n",
       "      <td>POL</td>\n",
       "      <td>Police</td>\n",
       "      <td>POA</td>\n",
       "      <td>Police Services</td>\n",
       "      <td>Lieutenant 3</td>\n",
       "      <td>179580.24</td>\n",
       "      <td>30718.14</td>\n",
       "      <td>9440.61</td>\n",
       "      <td>219738.99</td>\n",
       "      <td>33033.39</td>\n",
       "      <td>17376.89</td>\n",
       "      <td>3687.87</td>\n",
       "      <td>54098.15</td>\n",
       "      <td>273837.14</td>\n",
       "    </tr>\n",
       "    <tr>\n",
       "      <th>47</th>\n",
       "      <td>Fiscal</td>\n",
       "      <td>2019</td>\n",
       "      <td>Public Protection</td>\n",
       "      <td>POL</td>\n",
       "      <td>Police</td>\n",
       "      <td>POA</td>\n",
       "      <td>Police Services</td>\n",
       "      <td>Captain 3</td>\n",
       "      <td>220297.97</td>\n",
       "      <td>12336.89</td>\n",
       "      <td>5434.56</td>\n",
       "      <td>238069.42</td>\n",
       "      <td>40420.90</td>\n",
       "      <td>15525.74</td>\n",
       "      <td>4242.54</td>\n",
       "      <td>60189.18</td>\n",
       "      <td>298258.60</td>\n",
       "    </tr>\n",
       "    <tr>\n",
       "      <th>56</th>\n",
       "      <td>Fiscal</td>\n",
       "      <td>2019</td>\n",
       "      <td>Public Protection</td>\n",
       "      <td>POL</td>\n",
       "      <td>Police</td>\n",
       "      <td>POA</td>\n",
       "      <td>Police Services</td>\n",
       "      <td>Lieutenant 3</td>\n",
       "      <td>174713.04</td>\n",
       "      <td>12230.57</td>\n",
       "      <td>4439.33</td>\n",
       "      <td>191382.94</td>\n",
       "      <td>32509.19</td>\n",
       "      <td>16466.24</td>\n",
       "      <td>3041.06</td>\n",
       "      <td>52016.49</td>\n",
       "      <td>243399.43</td>\n",
       "    </tr>\n",
       "    <tr>\n",
       "      <th>79</th>\n",
       "      <td>Fiscal</td>\n",
       "      <td>2019</td>\n",
       "      <td>Public Protection</td>\n",
       "      <td>POL</td>\n",
       "      <td>Police</td>\n",
       "      <td>POA</td>\n",
       "      <td>Police Services</td>\n",
       "      <td>Captain 3</td>\n",
       "      <td>215429.79</td>\n",
       "      <td>870.90</td>\n",
       "      <td>5638.08</td>\n",
       "      <td>221938.77</td>\n",
       "      <td>40111.51</td>\n",
       "      <td>21415.07</td>\n",
       "      <td>3719.17</td>\n",
       "      <td>65245.75</td>\n",
       "      <td>287184.52</td>\n",
       "    </tr>\n",
       "    <tr>\n",
       "      <th>...</th>\n",
       "      <td>...</td>\n",
       "      <td>...</td>\n",
       "      <td>...</td>\n",
       "      <td>...</td>\n",
       "      <td>...</td>\n",
       "      <td>...</td>\n",
       "      <td>...</td>\n",
       "      <td>...</td>\n",
       "      <td>...</td>\n",
       "      <td>...</td>\n",
       "      <td>...</td>\n",
       "      <td>...</td>\n",
       "      <td>...</td>\n",
       "      <td>...</td>\n",
       "      <td>...</td>\n",
       "      <td>...</td>\n",
       "      <td>...</td>\n",
       "    </tr>\n",
       "    <tr>\n",
       "      <th>799395</th>\n",
       "      <td>Calendar</td>\n",
       "      <td>2016</td>\n",
       "      <td>Public Protection</td>\n",
       "      <td>DAT</td>\n",
       "      <td>DAT District Attorney</td>\n",
       "      <td>Municipal Attorneys' Association</td>\n",
       "      <td>Legal &amp; Court</td>\n",
       "      <td>Assistant Chief Attorney 1</td>\n",
       "      <td>216578.20</td>\n",
       "      <td>0.00</td>\n",
       "      <td>1500.00</td>\n",
       "      <td>218078.20</td>\n",
       "      <td>39178.34</td>\n",
       "      <td>13371.04</td>\n",
       "      <td>11501.04</td>\n",
       "      <td>64050.42</td>\n",
       "      <td>282128.62</td>\n",
       "    </tr>\n",
       "    <tr>\n",
       "      <th>799398</th>\n",
       "      <td>Calendar</td>\n",
       "      <td>2014</td>\n",
       "      <td>Public Protection</td>\n",
       "      <td>DAT</td>\n",
       "      <td>DAT District Attorney</td>\n",
       "      <td>Municipal Attorneys' Association</td>\n",
       "      <td>Legal &amp; Court</td>\n",
       "      <td>Head Atty, Civil &amp; Criminal</td>\n",
       "      <td>191709.01</td>\n",
       "      <td>0.00</td>\n",
       "      <td>1312.50</td>\n",
       "      <td>193021.51</td>\n",
       "      <td>41228.29</td>\n",
       "      <td>13054.94</td>\n",
       "      <td>10921.14</td>\n",
       "      <td>65204.37</td>\n",
       "      <td>258225.88</td>\n",
       "    </tr>\n",
       "    <tr>\n",
       "      <th>799399</th>\n",
       "      <td>Calendar</td>\n",
       "      <td>2013</td>\n",
       "      <td>Public Protection</td>\n",
       "      <td>DAT</td>\n",
       "      <td>DAT District Attorney</td>\n",
       "      <td>Municipal Attorneys' Association</td>\n",
       "      <td>Legal &amp; Court</td>\n",
       "      <td>Head Atty, Civil &amp; Criminal</td>\n",
       "      <td>193736.03</td>\n",
       "      <td>0.00</td>\n",
       "      <td>1250.00</td>\n",
       "      <td>194986.03</td>\n",
       "      <td>37179.86</td>\n",
       "      <td>12918.24</td>\n",
       "      <td>10822.48</td>\n",
       "      <td>60920.58</td>\n",
       "      <td>255906.61</td>\n",
       "    </tr>\n",
       "    <tr>\n",
       "      <th>799430</th>\n",
       "      <td>Fiscal</td>\n",
       "      <td>2016</td>\n",
       "      <td>Human Welfare &amp; Neighborhood Development</td>\n",
       "      <td>DSS</td>\n",
       "      <td>HSA Human Services Agency</td>\n",
       "      <td>Municipal Attorneys' Association</td>\n",
       "      <td>Legal &amp; Court</td>\n",
       "      <td>Attorney (Civil/Criminal)</td>\n",
       "      <td>188880.93</td>\n",
       "      <td>0.00</td>\n",
       "      <td>5277.61</td>\n",
       "      <td>194158.54</td>\n",
       "      <td>35200.99</td>\n",
       "      <td>13067.98</td>\n",
       "      <td>11532.73</td>\n",
       "      <td>59801.70</td>\n",
       "      <td>253960.24</td>\n",
       "    </tr>\n",
       "    <tr>\n",
       "      <th>799431</th>\n",
       "      <td>Fiscal</td>\n",
       "      <td>2015</td>\n",
       "      <td>Human Welfare &amp; Neighborhood Development</td>\n",
       "      <td>DSS</td>\n",
       "      <td>HSA Human Services Agency</td>\n",
       "      <td>Municipal Attorneys' Association</td>\n",
       "      <td>Legal &amp; Court</td>\n",
       "      <td>Attorney (Civil/Criminal)</td>\n",
       "      <td>182331.41</td>\n",
       "      <td>0.00</td>\n",
       "      <td>5084.13</td>\n",
       "      <td>187415.54</td>\n",
       "      <td>41118.94</td>\n",
       "      <td>12500.56</td>\n",
       "      <td>11296.73</td>\n",
       "      <td>64916.23</td>\n",
       "      <td>252331.77</td>\n",
       "    </tr>\n",
       "  </tbody>\n",
       "</table>\n",
       "<p>60482 rows × 17 columns</p>\n",
       "</div>\n",
       "      <button class=\"colab-df-convert\" onclick=\"convertToInteractive('df-1dabc58b-8d7d-448b-8be2-69ee7366405a')\"\n",
       "              title=\"Convert this dataframe to an interactive table.\"\n",
       "              style=\"display:none;\">\n",
       "        \n",
       "  <svg xmlns=\"http://www.w3.org/2000/svg\" height=\"24px\"viewBox=\"0 0 24 24\"\n",
       "       width=\"24px\">\n",
       "    <path d=\"M0 0h24v24H0V0z\" fill=\"none\"/>\n",
       "    <path d=\"M18.56 5.44l.94 2.06.94-2.06 2.06-.94-2.06-.94-.94-2.06-.94 2.06-2.06.94zm-11 1L8.5 8.5l.94-2.06 2.06-.94-2.06-.94L8.5 2.5l-.94 2.06-2.06.94zm10 10l.94 2.06.94-2.06 2.06-.94-2.06-.94-.94-2.06-.94 2.06-2.06.94z\"/><path d=\"M17.41 7.96l-1.37-1.37c-.4-.4-.92-.59-1.43-.59-.52 0-1.04.2-1.43.59L10.3 9.45l-7.72 7.72c-.78.78-.78 2.05 0 2.83L4 21.41c.39.39.9.59 1.41.59.51 0 1.02-.2 1.41-.59l7.78-7.78 2.81-2.81c.8-.78.8-2.07 0-2.86zM5.41 20L4 18.59l7.72-7.72 1.47 1.35L5.41 20z\"/>\n",
       "  </svg>\n",
       "      </button>\n",
       "      \n",
       "  <style>\n",
       "    .colab-df-container {\n",
       "      display:flex;\n",
       "      flex-wrap:wrap;\n",
       "      gap: 12px;\n",
       "    }\n",
       "\n",
       "    .colab-df-convert {\n",
       "      background-color: #E8F0FE;\n",
       "      border: none;\n",
       "      border-radius: 50%;\n",
       "      cursor: pointer;\n",
       "      display: none;\n",
       "      fill: #1967D2;\n",
       "      height: 32px;\n",
       "      padding: 0 0 0 0;\n",
       "      width: 32px;\n",
       "    }\n",
       "\n",
       "    .colab-df-convert:hover {\n",
       "      background-color: #E2EBFA;\n",
       "      box-shadow: 0px 1px 2px rgba(60, 64, 67, 0.3), 0px 1px 3px 1px rgba(60, 64, 67, 0.15);\n",
       "      fill: #174EA6;\n",
       "    }\n",
       "\n",
       "    [theme=dark] .colab-df-convert {\n",
       "      background-color: #3B4455;\n",
       "      fill: #D2E3FC;\n",
       "    }\n",
       "\n",
       "    [theme=dark] .colab-df-convert:hover {\n",
       "      background-color: #434B5C;\n",
       "      box-shadow: 0px 1px 3px 1px rgba(0, 0, 0, 0.15);\n",
       "      filter: drop-shadow(0px 1px 2px rgba(0, 0, 0, 0.3));\n",
       "      fill: #FFFFFF;\n",
       "    }\n",
       "  </style>\n",
       "\n",
       "      <script>\n",
       "        const buttonEl =\n",
       "          document.querySelector('#df-1dabc58b-8d7d-448b-8be2-69ee7366405a button.colab-df-convert');\n",
       "        buttonEl.style.display =\n",
       "          google.colab.kernel.accessAllowed ? 'block' : 'none';\n",
       "\n",
       "        async function convertToInteractive(key) {\n",
       "          const element = document.querySelector('#df-1dabc58b-8d7d-448b-8be2-69ee7366405a');\n",
       "          const dataTable =\n",
       "            await google.colab.kernel.invokeFunction('convertToInteractive',\n",
       "                                                     [key], {});\n",
       "          if (!dataTable) return;\n",
       "\n",
       "          const docLinkHtml = 'Like what you see? Visit the ' +\n",
       "            '<a target=\"_blank\" href=https://colab.research.google.com/notebooks/data_table.ipynb>data table notebook</a>'\n",
       "            + ' to learn more about interactive tables.';\n",
       "          element.innerHTML = '';\n",
       "          dataTable['output_type'] = 'display_data';\n",
       "          await google.colab.output.renderOutput(dataTable, element);\n",
       "          const docLink = document.createElement('div');\n",
       "          docLink.innerHTML = docLinkHtml;\n",
       "          element.appendChild(docLink);\n",
       "        }\n",
       "      </script>\n",
       "    </div>\n",
       "  </div>\n",
       "  "
      ],
      "text/plain": [
       "       year_type  year                        organization_group  \\\n",
       "41        Fiscal  2019                         Public Protection   \n",
       "46        Fiscal  2019                         Public Protection   \n",
       "47        Fiscal  2019                         Public Protection   \n",
       "56        Fiscal  2019                         Public Protection   \n",
       "79        Fiscal  2019                         Public Protection   \n",
       "...          ...   ...                                       ...   \n",
       "799395  Calendar  2016                         Public Protection   \n",
       "799398  Calendar  2014                         Public Protection   \n",
       "799399  Calendar  2013                         Public Protection   \n",
       "799430    Fiscal  2016  Human Welfare & Neighborhood Development   \n",
       "799431    Fiscal  2015  Human Welfare & Neighborhood Development   \n",
       "\n",
       "       department_code                 department  \\\n",
       "41                 POL                     Police   \n",
       "46                 POL                     Police   \n",
       "47                 POL                     Police   \n",
       "56                 POL                     Police   \n",
       "79                 POL                     Police   \n",
       "...                ...                        ...   \n",
       "799395             DAT      DAT District Attorney   \n",
       "799398             DAT      DAT District Attorney   \n",
       "799399             DAT      DAT District Attorney   \n",
       "799430             DSS  HSA Human Services Agency   \n",
       "799431             DSS  HSA Human Services Agency   \n",
       "\n",
       "                                   union       job_family  \\\n",
       "41                                   POA  Police Services   \n",
       "46                                   POA  Police Services   \n",
       "47                                   POA  Police Services   \n",
       "56                                   POA  Police Services   \n",
       "79                                   POA  Police Services   \n",
       "...                                  ...              ...   \n",
       "799395  Municipal Attorneys' Association    Legal & Court   \n",
       "799398  Municipal Attorneys' Association    Legal & Court   \n",
       "799399  Municipal Attorneys' Association    Legal & Court   \n",
       "799430  Municipal Attorneys' Association    Legal & Court   \n",
       "799431  Municipal Attorneys' Association    Legal & Court   \n",
       "\n",
       "                                job   salaries  overtime  other_salaries  \\\n",
       "41                     Lieutenant 3  172312.69  17676.27        10582.90   \n",
       "46                     Lieutenant 3  179580.24  30718.14         9440.61   \n",
       "47                        Captain 3  220297.97  12336.89         5434.56   \n",
       "56                     Lieutenant 3  174713.04  12230.57         4439.33   \n",
       "79                        Captain 3  215429.79    870.90         5638.08   \n",
       "...                             ...        ...       ...             ...   \n",
       "799395   Assistant Chief Attorney 1  216578.20      0.00         1500.00   \n",
       "799398  Head Atty, Civil & Criminal  191709.01      0.00         1312.50   \n",
       "799399  Head Atty, Civil & Criminal  193736.03      0.00         1250.00   \n",
       "799430    Attorney (Civil/Criminal)  188880.93      0.00         5277.61   \n",
       "799431    Attorney (Civil/Criminal)  182331.41      0.00         5084.13   \n",
       "\n",
       "        total_salary  retirement  health_and_dental  other_benefits  \\\n",
       "41         200571.86    31465.64           15645.17         3328.03   \n",
       "46         219738.99    33033.39           17376.89         3687.87   \n",
       "47         238069.42    40420.90           15525.74         4242.54   \n",
       "56         191382.94    32509.19           16466.24         3041.06   \n",
       "79         221938.77    40111.51           21415.07         3719.17   \n",
       "...              ...         ...                ...             ...   \n",
       "799395     218078.20    39178.34           13371.04        11501.04   \n",
       "799398     193021.51    41228.29           13054.94        10921.14   \n",
       "799399     194986.03    37179.86           12918.24        10822.48   \n",
       "799430     194158.54    35200.99           13067.98        11532.73   \n",
       "799431     187415.54    41118.94           12500.56        11296.73   \n",
       "\n",
       "        total_benefits  total_compensation  \n",
       "41            50438.84           251010.70  \n",
       "46            54098.15           273837.14  \n",
       "47            60189.18           298258.60  \n",
       "56            52016.49           243399.43  \n",
       "79            65245.75           287184.52  \n",
       "...                ...                 ...  \n",
       "799395        64050.42           282128.62  \n",
       "799398        65204.37           258225.88  \n",
       "799399        60920.58           255906.61  \n",
       "799430        59801.70           253960.24  \n",
       "799431        64916.23           252331.77  \n",
       "\n",
       "[60482 rows x 17 columns]"
      ]
     },
     "execution_count": 43,
     "metadata": {},
     "output_type": "execute_result"
    }
   ],
   "source": [
    "employee_compensation_data[employee_compensation_data[\"retirement\"]> 30000]"
   ]
  },
  {
   "cell_type": "code",
   "execution_count": null,
   "id": "PYKNaQmqT_Ou",
   "metadata": {
    "colab": {
     "base_uri": "https://localhost:8080/",
     "height": 818
    },
    "executionInfo": {
     "elapsed": 15,
     "status": "ok",
     "timestamp": 1681523636565,
     "user": {
      "displayName": "Srinu Venuvanka",
      "userId": "07818478530935474505"
     },
     "user_tz": 240
    },
    "id": "PYKNaQmqT_Ou",
    "outputId": "c699f680-e4f6-44a2-c712-a1aa407e1dcb"
   },
   "outputs": [
    {
     "data": {
      "text/html": [
       "\n",
       "  <div id=\"df-b51ec616-b989-4175-b819-94355ed715fa\">\n",
       "    <div class=\"colab-df-container\">\n",
       "      <div>\n",
       "<style scoped>\n",
       "    .dataframe tbody tr th:only-of-type {\n",
       "        vertical-align: middle;\n",
       "    }\n",
       "\n",
       "    .dataframe tbody tr th {\n",
       "        vertical-align: top;\n",
       "    }\n",
       "\n",
       "    .dataframe thead th {\n",
       "        text-align: right;\n",
       "    }\n",
       "</style>\n",
       "<table border=\"1\" class=\"dataframe\">\n",
       "  <thead>\n",
       "    <tr style=\"text-align: right;\">\n",
       "      <th></th>\n",
       "      <th>year_type</th>\n",
       "      <th>year</th>\n",
       "      <th>organization_group</th>\n",
       "      <th>department_code</th>\n",
       "      <th>department</th>\n",
       "      <th>union</th>\n",
       "      <th>job_family</th>\n",
       "      <th>job</th>\n",
       "      <th>salaries</th>\n",
       "      <th>overtime</th>\n",
       "      <th>other_salaries</th>\n",
       "      <th>total_salary</th>\n",
       "      <th>retirement</th>\n",
       "      <th>health_and_dental</th>\n",
       "      <th>other_benefits</th>\n",
       "      <th>total_benefits</th>\n",
       "      <th>total_compensation</th>\n",
       "    </tr>\n",
       "  </thead>\n",
       "  <tbody>\n",
       "    <tr>\n",
       "      <th>247</th>\n",
       "      <td>Fiscal</td>\n",
       "      <td>2018</td>\n",
       "      <td>Public Protection</td>\n",
       "      <td>CRT</td>\n",
       "      <td>Trial Courts</td>\n",
       "      <td>Court-MEA</td>\n",
       "      <td>Untitled</td>\n",
       "      <td>Fiscal Sys And Serv Manager</td>\n",
       "      <td>114583.78</td>\n",
       "      <td>0.00</td>\n",
       "      <td>0.00</td>\n",
       "      <td>114583.78</td>\n",
       "      <td>22014.01</td>\n",
       "      <td>27793.47</td>\n",
       "      <td>10154.35</td>\n",
       "      <td>59961.83</td>\n",
       "      <td>174545.61</td>\n",
       "    </tr>\n",
       "    <tr>\n",
       "      <th>277</th>\n",
       "      <td>Fiscal</td>\n",
       "      <td>2018</td>\n",
       "      <td>Public Protection</td>\n",
       "      <td>CRT</td>\n",
       "      <td>Trial Courts</td>\n",
       "      <td>Court-MEA</td>\n",
       "      <td>Untitled</td>\n",
       "      <td>Assistant Director, Probate</td>\n",
       "      <td>100271.22</td>\n",
       "      <td>0.00</td>\n",
       "      <td>0.00</td>\n",
       "      <td>100271.22</td>\n",
       "      <td>19265.94</td>\n",
       "      <td>28437.20</td>\n",
       "      <td>8791.59</td>\n",
       "      <td>56494.73</td>\n",
       "      <td>156765.95</td>\n",
       "    </tr>\n",
       "    <tr>\n",
       "      <th>577</th>\n",
       "      <td>Fiscal</td>\n",
       "      <td>2018</td>\n",
       "      <td>Community Health</td>\n",
       "      <td>DPH</td>\n",
       "      <td>Public Health</td>\n",
       "      <td>SEIU, Local 1021, RN</td>\n",
       "      <td>Nursing</td>\n",
       "      <td>Registered Nurse</td>\n",
       "      <td>135513.99</td>\n",
       "      <td>12207.05</td>\n",
       "      <td>6092.52</td>\n",
       "      <td>153813.56</td>\n",
       "      <td>26477.47</td>\n",
       "      <td>24552.92</td>\n",
       "      <td>12405.10</td>\n",
       "      <td>63435.49</td>\n",
       "      <td>217249.05</td>\n",
       "    </tr>\n",
       "    <tr>\n",
       "      <th>663</th>\n",
       "      <td>Fiscal</td>\n",
       "      <td>2018</td>\n",
       "      <td>Community Health</td>\n",
       "      <td>DPH</td>\n",
       "      <td>Public Health</td>\n",
       "      <td>Teamsters, Local 856, Spv RN</td>\n",
       "      <td>Nursing</td>\n",
       "      <td>Nurse Manager</td>\n",
       "      <td>159040.00</td>\n",
       "      <td>2440.00</td>\n",
       "      <td>30217.60</td>\n",
       "      <td>191697.60</td>\n",
       "      <td>32763.82</td>\n",
       "      <td>28666.53</td>\n",
       "      <td>14847.78</td>\n",
       "      <td>76278.13</td>\n",
       "      <td>267975.73</td>\n",
       "    </tr>\n",
       "    <tr>\n",
       "      <th>1577</th>\n",
       "      <td>Fiscal</td>\n",
       "      <td>2018</td>\n",
       "      <td>Public Works, Transportation &amp; Commerce</td>\n",
       "      <td>MTA</td>\n",
       "      <td>Municipal Transportation Agcy</td>\n",
       "      <td>TWU, Local 250-A, TransitOpr</td>\n",
       "      <td>Street Transit</td>\n",
       "      <td>Transit Operator</td>\n",
       "      <td>76338.50</td>\n",
       "      <td>42591.26</td>\n",
       "      <td>5552.82</td>\n",
       "      <td>124482.58</td>\n",
       "      <td>15660.43</td>\n",
       "      <td>26450.05</td>\n",
       "      <td>9414.02</td>\n",
       "      <td>51524.50</td>\n",
       "      <td>176007.08</td>\n",
       "    </tr>\n",
       "    <tr>\n",
       "      <th>...</th>\n",
       "      <td>...</td>\n",
       "      <td>...</td>\n",
       "      <td>...</td>\n",
       "      <td>...</td>\n",
       "      <td>...</td>\n",
       "      <td>...</td>\n",
       "      <td>...</td>\n",
       "      <td>...</td>\n",
       "      <td>...</td>\n",
       "      <td>...</td>\n",
       "      <td>...</td>\n",
       "      <td>...</td>\n",
       "      <td>...</td>\n",
       "      <td>...</td>\n",
       "      <td>...</td>\n",
       "      <td>...</td>\n",
       "      <td>...</td>\n",
       "    </tr>\n",
       "    <tr>\n",
       "      <th>461498</th>\n",
       "      <td>Fiscal</td>\n",
       "      <td>2022</td>\n",
       "      <td>General Administration &amp; Finance</td>\n",
       "      <td>MYR</td>\n",
       "      <td>Mayor</td>\n",
       "      <td>Mgt. Unrepresented Employees</td>\n",
       "      <td>Untitled</td>\n",
       "      <td>Mayoral Staff XV</td>\n",
       "      <td>166675.97</td>\n",
       "      <td>0.00</td>\n",
       "      <td>0.00</td>\n",
       "      <td>166675.97</td>\n",
       "      <td>33011.44</td>\n",
       "      <td>26081.62</td>\n",
       "      <td>12060.45</td>\n",
       "      <td>71153.51</td>\n",
       "      <td>237829.48</td>\n",
       "    </tr>\n",
       "    <tr>\n",
       "      <th>461977</th>\n",
       "      <td>Fiscal</td>\n",
       "      <td>2022</td>\n",
       "      <td>Public Works, Transportation &amp; Commerce</td>\n",
       "      <td>MTA</td>\n",
       "      <td>Municipal Transportation Agcy</td>\n",
       "      <td>Municipal Exec Assoc, Misc</td>\n",
       "      <td>Street Transit</td>\n",
       "      <td>Manager VI, MTA</td>\n",
       "      <td>189144.90</td>\n",
       "      <td>0.00</td>\n",
       "      <td>0.00</td>\n",
       "      <td>189144.90</td>\n",
       "      <td>37453.60</td>\n",
       "      <td>26081.62</td>\n",
       "      <td>13100.06</td>\n",
       "      <td>76635.28</td>\n",
       "      <td>265780.18</td>\n",
       "    </tr>\n",
       "    <tr>\n",
       "      <th>462066</th>\n",
       "      <td>Fiscal</td>\n",
       "      <td>2022</td>\n",
       "      <td>Public Protection</td>\n",
       "      <td>DEM</td>\n",
       "      <td>Dept of Emergency Management</td>\n",
       "      <td>Municipal Exec Assoc, Misc</td>\n",
       "      <td>Management</td>\n",
       "      <td>Manager V</td>\n",
       "      <td>197786.65</td>\n",
       "      <td>0.00</td>\n",
       "      <td>3556.70</td>\n",
       "      <td>201343.35</td>\n",
       "      <td>39874.68</td>\n",
       "      <td>26081.62</td>\n",
       "      <td>12868.30</td>\n",
       "      <td>78824.60</td>\n",
       "      <td>280167.95</td>\n",
       "    </tr>\n",
       "    <tr>\n",
       "      <th>462170</th>\n",
       "      <td>Fiscal</td>\n",
       "      <td>2022</td>\n",
       "      <td>Community Health</td>\n",
       "      <td>DPH</td>\n",
       "      <td>Public Health</td>\n",
       "      <td>Municipal Exec Assoc, Misc</td>\n",
       "      <td>Management</td>\n",
       "      <td>Manager IV</td>\n",
       "      <td>206913.86</td>\n",
       "      <td>0.00</td>\n",
       "      <td>5556.70</td>\n",
       "      <td>212470.56</td>\n",
       "      <td>42070.06</td>\n",
       "      <td>26081.62</td>\n",
       "      <td>13404.85</td>\n",
       "      <td>81556.53</td>\n",
       "      <td>294027.09</td>\n",
       "    </tr>\n",
       "    <tr>\n",
       "      <th>463155</th>\n",
       "      <td>Fiscal</td>\n",
       "      <td>2022</td>\n",
       "      <td>Public Works, Transportation &amp; Commerce</td>\n",
       "      <td>PRT</td>\n",
       "      <td>Port</td>\n",
       "      <td>Municipal Exec Assoc, Misc</td>\n",
       "      <td>Management</td>\n",
       "      <td>Manager II</td>\n",
       "      <td>158426.90</td>\n",
       "      <td>0.00</td>\n",
       "      <td>3556.70</td>\n",
       "      <td>161983.60</td>\n",
       "      <td>32078.88</td>\n",
       "      <td>26081.62</td>\n",
       "      <td>12240.50</td>\n",
       "      <td>70401.00</td>\n",
       "      <td>232384.60</td>\n",
       "    </tr>\n",
       "  </tbody>\n",
       "</table>\n",
       "<p>2093 rows × 17 columns</p>\n",
       "</div>\n",
       "      <button class=\"colab-df-convert\" onclick=\"convertToInteractive('df-b51ec616-b989-4175-b819-94355ed715fa')\"\n",
       "              title=\"Convert this dataframe to an interactive table.\"\n",
       "              style=\"display:none;\">\n",
       "        \n",
       "  <svg xmlns=\"http://www.w3.org/2000/svg\" height=\"24px\"viewBox=\"0 0 24 24\"\n",
       "       width=\"24px\">\n",
       "    <path d=\"M0 0h24v24H0V0z\" fill=\"none\"/>\n",
       "    <path d=\"M18.56 5.44l.94 2.06.94-2.06 2.06-.94-2.06-.94-.94-2.06-.94 2.06-2.06.94zm-11 1L8.5 8.5l.94-2.06 2.06-.94-2.06-.94L8.5 2.5l-.94 2.06-2.06.94zm10 10l.94 2.06.94-2.06 2.06-.94-2.06-.94-.94-2.06-.94 2.06-2.06.94z\"/><path d=\"M17.41 7.96l-1.37-1.37c-.4-.4-.92-.59-1.43-.59-.52 0-1.04.2-1.43.59L10.3 9.45l-7.72 7.72c-.78.78-.78 2.05 0 2.83L4 21.41c.39.39.9.59 1.41.59.51 0 1.02-.2 1.41-.59l7.78-7.78 2.81-2.81c.8-.78.8-2.07 0-2.86zM5.41 20L4 18.59l7.72-7.72 1.47 1.35L5.41 20z\"/>\n",
       "  </svg>\n",
       "      </button>\n",
       "      \n",
       "  <style>\n",
       "    .colab-df-container {\n",
       "      display:flex;\n",
       "      flex-wrap:wrap;\n",
       "      gap: 12px;\n",
       "    }\n",
       "\n",
       "    .colab-df-convert {\n",
       "      background-color: #E8F0FE;\n",
       "      border: none;\n",
       "      border-radius: 50%;\n",
       "      cursor: pointer;\n",
       "      display: none;\n",
       "      fill: #1967D2;\n",
       "      height: 32px;\n",
       "      padding: 0 0 0 0;\n",
       "      width: 32px;\n",
       "    }\n",
       "\n",
       "    .colab-df-convert:hover {\n",
       "      background-color: #E2EBFA;\n",
       "      box-shadow: 0px 1px 2px rgba(60, 64, 67, 0.3), 0px 1px 3px 1px rgba(60, 64, 67, 0.15);\n",
       "      fill: #174EA6;\n",
       "    }\n",
       "\n",
       "    [theme=dark] .colab-df-convert {\n",
       "      background-color: #3B4455;\n",
       "      fill: #D2E3FC;\n",
       "    }\n",
       "\n",
       "    [theme=dark] .colab-df-convert:hover {\n",
       "      background-color: #434B5C;\n",
       "      box-shadow: 0px 1px 3px 1px rgba(0, 0, 0, 0.15);\n",
       "      filter: drop-shadow(0px 1px 2px rgba(0, 0, 0, 0.3));\n",
       "      fill: #FFFFFF;\n",
       "    }\n",
       "  </style>\n",
       "\n",
       "      <script>\n",
       "        const buttonEl =\n",
       "          document.querySelector('#df-b51ec616-b989-4175-b819-94355ed715fa button.colab-df-convert');\n",
       "        buttonEl.style.display =\n",
       "          google.colab.kernel.accessAllowed ? 'block' : 'none';\n",
       "\n",
       "        async function convertToInteractive(key) {\n",
       "          const element = document.querySelector('#df-b51ec616-b989-4175-b819-94355ed715fa');\n",
       "          const dataTable =\n",
       "            await google.colab.kernel.invokeFunction('convertToInteractive',\n",
       "                                                     [key], {});\n",
       "          if (!dataTable) return;\n",
       "\n",
       "          const docLinkHtml = 'Like what you see? Visit the ' +\n",
       "            '<a target=\"_blank\" href=https://colab.research.google.com/notebooks/data_table.ipynb>data table notebook</a>'\n",
       "            + ' to learn more about interactive tables.';\n",
       "          element.innerHTML = '';\n",
       "          dataTable['output_type'] = 'display_data';\n",
       "          await google.colab.output.renderOutput(dataTable, element);\n",
       "          const docLink = document.createElement('div');\n",
       "          docLink.innerHTML = docLinkHtml;\n",
       "          element.appendChild(docLink);\n",
       "        }\n",
       "      </script>\n",
       "    </div>\n",
       "  </div>\n",
       "  "
      ],
      "text/plain": [
       "       year_type  year                       organization_group  \\\n",
       "247       Fiscal  2018                        Public Protection   \n",
       "277       Fiscal  2018                        Public Protection   \n",
       "577       Fiscal  2018                         Community Health   \n",
       "663       Fiscal  2018                         Community Health   \n",
       "1577      Fiscal  2018  Public Works, Transportation & Commerce   \n",
       "...          ...   ...                                      ...   \n",
       "461498    Fiscal  2022         General Administration & Finance   \n",
       "461977    Fiscal  2022  Public Works, Transportation & Commerce   \n",
       "462066    Fiscal  2022                        Public Protection   \n",
       "462170    Fiscal  2022                         Community Health   \n",
       "463155    Fiscal  2022  Public Works, Transportation & Commerce   \n",
       "\n",
       "       department_code                     department  \\\n",
       "247                CRT                   Trial Courts   \n",
       "277                CRT                   Trial Courts   \n",
       "577                DPH                  Public Health   \n",
       "663                DPH                  Public Health   \n",
       "1577               MTA  Municipal Transportation Agcy   \n",
       "...                ...                            ...   \n",
       "461498             MYR                          Mayor   \n",
       "461977             MTA  Municipal Transportation Agcy   \n",
       "462066             DEM   Dept of Emergency Management   \n",
       "462170             DPH                  Public Health   \n",
       "463155             PRT                           Port   \n",
       "\n",
       "                               union      job_family  \\\n",
       "247                        Court-MEA        Untitled   \n",
       "277                        Court-MEA        Untitled   \n",
       "577             SEIU, Local 1021, RN         Nursing   \n",
       "663     Teamsters, Local 856, Spv RN         Nursing   \n",
       "1577    TWU, Local 250-A, TransitOpr  Street Transit   \n",
       "...                              ...             ...   \n",
       "461498  Mgt. Unrepresented Employees        Untitled   \n",
       "461977    Municipal Exec Assoc, Misc  Street Transit   \n",
       "462066    Municipal Exec Assoc, Misc      Management   \n",
       "462170    Municipal Exec Assoc, Misc      Management   \n",
       "463155    Municipal Exec Assoc, Misc      Management   \n",
       "\n",
       "                                job   salaries  overtime  other_salaries  \\\n",
       "247     Fiscal Sys And Serv Manager  114583.78      0.00            0.00   \n",
       "277     Assistant Director, Probate  100271.22      0.00            0.00   \n",
       "577                Registered Nurse  135513.99  12207.05         6092.52   \n",
       "663                   Nurse Manager  159040.00   2440.00        30217.60   \n",
       "1577               Transit Operator   76338.50  42591.26         5552.82   \n",
       "...                             ...        ...       ...             ...   \n",
       "461498             Mayoral Staff XV  166675.97      0.00            0.00   \n",
       "461977              Manager VI, MTA  189144.90      0.00            0.00   \n",
       "462066                    Manager V  197786.65      0.00         3556.70   \n",
       "462170                   Manager IV  206913.86      0.00         5556.70   \n",
       "463155                   Manager II  158426.90      0.00         3556.70   \n",
       "\n",
       "        total_salary  retirement  health_and_dental  other_benefits  \\\n",
       "247        114583.78    22014.01           27793.47        10154.35   \n",
       "277        100271.22    19265.94           28437.20         8791.59   \n",
       "577        153813.56    26477.47           24552.92        12405.10   \n",
       "663        191697.60    32763.82           28666.53        14847.78   \n",
       "1577       124482.58    15660.43           26450.05         9414.02   \n",
       "...              ...         ...                ...             ...   \n",
       "461498     166675.97    33011.44           26081.62        12060.45   \n",
       "461977     189144.90    37453.60           26081.62        13100.06   \n",
       "462066     201343.35    39874.68           26081.62        12868.30   \n",
       "462170     212470.56    42070.06           26081.62        13404.85   \n",
       "463155     161983.60    32078.88           26081.62        12240.50   \n",
       "\n",
       "        total_benefits  total_compensation  \n",
       "247           59961.83           174545.61  \n",
       "277           56494.73           156765.95  \n",
       "577           63435.49           217249.05  \n",
       "663           76278.13           267975.73  \n",
       "1577          51524.50           176007.08  \n",
       "...                ...                 ...  \n",
       "461498        71153.51           237829.48  \n",
       "461977        76635.28           265780.18  \n",
       "462066        78824.60           280167.95  \n",
       "462170        81556.53           294027.09  \n",
       "463155        70401.00           232384.60  \n",
       "\n",
       "[2093 rows x 17 columns]"
      ]
     },
     "execution_count": 44,
     "metadata": {},
     "output_type": "execute_result"
    }
   ],
   "source": [
    "employee_compensation_data[employee_compensation_data[\"health_and_dental\"]> 24000]"
   ]
  },
  {
   "cell_type": "markdown",
   "id": "9topuziOSb44",
   "metadata": {
    "id": "9topuziOSb44"
   },
   "source": [
    "**Summary of Statistics**"
   ]
  },
  {
   "cell_type": "code",
   "execution_count": null,
   "id": "6f327dca",
   "metadata": {
    "colab": {
     "base_uri": "https://localhost:8080/",
     "height": 364
    },
    "executionInfo": {
     "elapsed": 210,
     "status": "ok",
     "timestamp": 1681523636197,
     "user": {
      "displayName": "Srinu Venuvanka",
      "userId": "07818478530935474505"
     },
     "user_tz": 240
    },
    "id": "6f327dca",
    "outputId": "37a955b4-e7ea-465f-9722-b3d97e400fa7"
   },
   "outputs": [
    {
     "data": {
      "text/html": [
       "\n",
       "  <div id=\"df-aa5e7d17-f90a-4226-b790-e088378048b0\">\n",
       "    <div class=\"colab-df-container\">\n",
       "      <div>\n",
       "<style scoped>\n",
       "    .dataframe tbody tr th:only-of-type {\n",
       "        vertical-align: middle;\n",
       "    }\n",
       "\n",
       "    .dataframe tbody tr th {\n",
       "        vertical-align: top;\n",
       "    }\n",
       "\n",
       "    .dataframe thead th {\n",
       "        text-align: right;\n",
       "    }\n",
       "</style>\n",
       "<table border=\"1\" class=\"dataframe\">\n",
       "  <thead>\n",
       "    <tr style=\"text-align: right;\">\n",
       "      <th></th>\n",
       "      <th>year</th>\n",
       "      <th>salaries</th>\n",
       "      <th>overtime</th>\n",
       "      <th>other_salaries</th>\n",
       "      <th>total_salary</th>\n",
       "      <th>retirement</th>\n",
       "      <th>health_and_dental</th>\n",
       "      <th>other_benefits</th>\n",
       "      <th>total_benefits</th>\n",
       "      <th>total_compensation</th>\n",
       "    </tr>\n",
       "  </thead>\n",
       "  <tbody>\n",
       "    <tr>\n",
       "      <th>count</th>\n",
       "      <td>799376.000000</td>\n",
       "      <td>799376.000000</td>\n",
       "      <td>799376.000000</td>\n",
       "      <td>799376.000000</td>\n",
       "      <td>799376.000000</td>\n",
       "      <td>799376.000000</td>\n",
       "      <td>799376.000000</td>\n",
       "      <td>799376.000000</td>\n",
       "      <td>799376.000000</td>\n",
       "      <td>799376.000000</td>\n",
       "    </tr>\n",
       "    <tr>\n",
       "      <th>mean</th>\n",
       "      <td>2017.267670</td>\n",
       "      <td>73540.324543</td>\n",
       "      <td>5927.051210</td>\n",
       "      <td>3790.384462</td>\n",
       "      <td>83257.760215</td>\n",
       "      <td>14933.882094</td>\n",
       "      <td>9930.210840</td>\n",
       "      <td>5277.946737</td>\n",
       "      <td>30142.039671</td>\n",
       "      <td>113399.799886</td>\n",
       "    </tr>\n",
       "    <tr>\n",
       "      <th>std</th>\n",
       "      <td>2.712806</td>\n",
       "      <td>49551.882102</td>\n",
       "      <td>14190.334002</td>\n",
       "      <td>7608.662852</td>\n",
       "      <td>58010.902681</td>\n",
       "      <td>11160.160556</td>\n",
       "      <td>6286.671227</td>\n",
       "      <td>3786.976878</td>\n",
       "      <td>18814.947830</td>\n",
       "      <td>75175.180113</td>\n",
       "    </tr>\n",
       "    <tr>\n",
       "      <th>min</th>\n",
       "      <td>2013.000000</td>\n",
       "      <td>-68771.780000</td>\n",
       "      <td>-22453.280000</td>\n",
       "      <td>-19131.100000</td>\n",
       "      <td>-68771.780000</td>\n",
       "      <td>-30621.430000</td>\n",
       "      <td>-3831.090000</td>\n",
       "      <td>-10636.500000</td>\n",
       "      <td>-21295.150000</td>\n",
       "      <td>-74082.610000</td>\n",
       "    </tr>\n",
       "    <tr>\n",
       "      <th>25%</th>\n",
       "      <td>2015.000000</td>\n",
       "      <td>33824.975000</td>\n",
       "      <td>0.000000</td>\n",
       "      <td>0.000000</td>\n",
       "      <td>37223.742500</td>\n",
       "      <td>5799.085000</td>\n",
       "      <td>3345.060000</td>\n",
       "      <td>2069.940000</td>\n",
       "      <td>13668.617500</td>\n",
       "      <td>51740.302500</td>\n",
       "    </tr>\n",
       "    <tr>\n",
       "      <th>50%</th>\n",
       "      <td>2017.000000</td>\n",
       "      <td>71820.990000</td>\n",
       "      <td>0.000000</td>\n",
       "      <td>766.150000</td>\n",
       "      <td>79214.925000</td>\n",
       "      <td>14976.350000</td>\n",
       "      <td>12512.550000</td>\n",
       "      <td>5168.960000</td>\n",
       "      <td>33525.355000</td>\n",
       "      <td>113068.020000</td>\n",
       "    </tr>\n",
       "    <tr>\n",
       "      <th>75%</th>\n",
       "      <td>2020.000000</td>\n",
       "      <td>105871.065000</td>\n",
       "      <td>4783.672500</td>\n",
       "      <td>4493.865000</td>\n",
       "      <td>118345.762500</td>\n",
       "      <td>21546.182500</td>\n",
       "      <td>14702.770000</td>\n",
       "      <td>7877.340000</td>\n",
       "      <td>42499.115000</td>\n",
       "      <td>161633.890000</td>\n",
       "    </tr>\n",
       "    <tr>\n",
       "      <th>max</th>\n",
       "      <td>2022.000000</td>\n",
       "      <td>651936.710000</td>\n",
       "      <td>373229.680000</td>\n",
       "      <td>342802.630000</td>\n",
       "      <td>658867.570000</td>\n",
       "      <td>160320.350000</td>\n",
       "      <td>59405.230000</td>\n",
       "      <td>35691.040000</td>\n",
       "      <td>182155.910000</td>\n",
       "      <td>807625.250000</td>\n",
       "    </tr>\n",
       "  </tbody>\n",
       "</table>\n",
       "</div>\n",
       "      <button class=\"colab-df-convert\" onclick=\"convertToInteractive('df-aa5e7d17-f90a-4226-b790-e088378048b0')\"\n",
       "              title=\"Convert this dataframe to an interactive table.\"\n",
       "              style=\"display:none;\">\n",
       "        \n",
       "  <svg xmlns=\"http://www.w3.org/2000/svg\" height=\"24px\"viewBox=\"0 0 24 24\"\n",
       "       width=\"24px\">\n",
       "    <path d=\"M0 0h24v24H0V0z\" fill=\"none\"/>\n",
       "    <path d=\"M18.56 5.44l.94 2.06.94-2.06 2.06-.94-2.06-.94-.94-2.06-.94 2.06-2.06.94zm-11 1L8.5 8.5l.94-2.06 2.06-.94-2.06-.94L8.5 2.5l-.94 2.06-2.06.94zm10 10l.94 2.06.94-2.06 2.06-.94-2.06-.94-.94-2.06-.94 2.06-2.06.94z\"/><path d=\"M17.41 7.96l-1.37-1.37c-.4-.4-.92-.59-1.43-.59-.52 0-1.04.2-1.43.59L10.3 9.45l-7.72 7.72c-.78.78-.78 2.05 0 2.83L4 21.41c.39.39.9.59 1.41.59.51 0 1.02-.2 1.41-.59l7.78-7.78 2.81-2.81c.8-.78.8-2.07 0-2.86zM5.41 20L4 18.59l7.72-7.72 1.47 1.35L5.41 20z\"/>\n",
       "  </svg>\n",
       "      </button>\n",
       "      \n",
       "  <style>\n",
       "    .colab-df-container {\n",
       "      display:flex;\n",
       "      flex-wrap:wrap;\n",
       "      gap: 12px;\n",
       "    }\n",
       "\n",
       "    .colab-df-convert {\n",
       "      background-color: #E8F0FE;\n",
       "      border: none;\n",
       "      border-radius: 50%;\n",
       "      cursor: pointer;\n",
       "      display: none;\n",
       "      fill: #1967D2;\n",
       "      height: 32px;\n",
       "      padding: 0 0 0 0;\n",
       "      width: 32px;\n",
       "    }\n",
       "\n",
       "    .colab-df-convert:hover {\n",
       "      background-color: #E2EBFA;\n",
       "      box-shadow: 0px 1px 2px rgba(60, 64, 67, 0.3), 0px 1px 3px 1px rgba(60, 64, 67, 0.15);\n",
       "      fill: #174EA6;\n",
       "    }\n",
       "\n",
       "    [theme=dark] .colab-df-convert {\n",
       "      background-color: #3B4455;\n",
       "      fill: #D2E3FC;\n",
       "    }\n",
       "\n",
       "    [theme=dark] .colab-df-convert:hover {\n",
       "      background-color: #434B5C;\n",
       "      box-shadow: 0px 1px 3px 1px rgba(0, 0, 0, 0.15);\n",
       "      filter: drop-shadow(0px 1px 2px rgba(0, 0, 0, 0.3));\n",
       "      fill: #FFFFFF;\n",
       "    }\n",
       "  </style>\n",
       "\n",
       "      <script>\n",
       "        const buttonEl =\n",
       "          document.querySelector('#df-aa5e7d17-f90a-4226-b790-e088378048b0 button.colab-df-convert');\n",
       "        buttonEl.style.display =\n",
       "          google.colab.kernel.accessAllowed ? 'block' : 'none';\n",
       "\n",
       "        async function convertToInteractive(key) {\n",
       "          const element = document.querySelector('#df-aa5e7d17-f90a-4226-b790-e088378048b0');\n",
       "          const dataTable =\n",
       "            await google.colab.kernel.invokeFunction('convertToInteractive',\n",
       "                                                     [key], {});\n",
       "          if (!dataTable) return;\n",
       "\n",
       "          const docLinkHtml = 'Like what you see? Visit the ' +\n",
       "            '<a target=\"_blank\" href=https://colab.research.google.com/notebooks/data_table.ipynb>data table notebook</a>'\n",
       "            + ' to learn more about interactive tables.';\n",
       "          element.innerHTML = '';\n",
       "          dataTable['output_type'] = 'display_data';\n",
       "          await google.colab.output.renderOutput(dataTable, element);\n",
       "          const docLink = document.createElement('div');\n",
       "          docLink.innerHTML = docLinkHtml;\n",
       "          element.appendChild(docLink);\n",
       "        }\n",
       "      </script>\n",
       "    </div>\n",
       "  </div>\n",
       "  "
      ],
      "text/plain": [
       "                year       salaries       overtime  other_salaries  \\\n",
       "count  799376.000000  799376.000000  799376.000000   799376.000000   \n",
       "mean     2017.267670   73540.324543    5927.051210     3790.384462   \n",
       "std         2.712806   49551.882102   14190.334002     7608.662852   \n",
       "min      2013.000000  -68771.780000  -22453.280000   -19131.100000   \n",
       "25%      2015.000000   33824.975000       0.000000        0.000000   \n",
       "50%      2017.000000   71820.990000       0.000000      766.150000   \n",
       "75%      2020.000000  105871.065000    4783.672500     4493.865000   \n",
       "max      2022.000000  651936.710000  373229.680000   342802.630000   \n",
       "\n",
       "        total_salary     retirement  health_and_dental  other_benefits  \\\n",
       "count  799376.000000  799376.000000      799376.000000   799376.000000   \n",
       "mean    83257.760215   14933.882094        9930.210840     5277.946737   \n",
       "std     58010.902681   11160.160556        6286.671227     3786.976878   \n",
       "min    -68771.780000  -30621.430000       -3831.090000   -10636.500000   \n",
       "25%     37223.742500    5799.085000        3345.060000     2069.940000   \n",
       "50%     79214.925000   14976.350000       12512.550000     5168.960000   \n",
       "75%    118345.762500   21546.182500       14702.770000     7877.340000   \n",
       "max    658867.570000  160320.350000       59405.230000    35691.040000   \n",
       "\n",
       "       total_benefits  total_compensation  \n",
       "count   799376.000000       799376.000000  \n",
       "mean     30142.039671       113399.799886  \n",
       "std      18814.947830        75175.180113  \n",
       "min     -21295.150000       -74082.610000  \n",
       "25%      13668.617500        51740.302500  \n",
       "50%      33525.355000       113068.020000  \n",
       "75%      42499.115000       161633.890000  \n",
       "max     182155.910000       807625.250000  "
      ]
     },
     "execution_count": 41,
     "metadata": {},
     "output_type": "execute_result"
    }
   ],
   "source": [
    "employee_compensation_data.describe()"
   ]
  },
  {
   "cell_type": "markdown",
   "id": "ScUsWILC0gk4",
   "metadata": {
    "id": "ScUsWILC0gk4"
   },
   "source": [
    "**Visualize the value count distribution(Total Salary)**"
   ]
  },
  {
   "cell_type": "code",
   "execution_count": null,
   "id": "pD08g3MXl1Zk",
   "metadata": {
    "colab": {
     "base_uri": "https://localhost:8080/",
     "height": 447
    },
    "executionInfo": {
     "elapsed": 532,
     "status": "ok",
     "timestamp": 1681523629742,
     "user": {
      "displayName": "Srinu Venuvanka",
      "userId": "07818478530935474505"
     },
     "user_tz": 240
    },
    "id": "pD08g3MXl1Zk",
    "outputId": "e0475858-96a2-4c4d-b2d9-14afc3daa0cf"
   },
   "outputs": [
    {
     "data": {
      "text/plain": [
       "<Axes: >"
      ]
     },
     "execution_count": 26,
     "metadata": {},
     "output_type": "execute_result"
    },
    {
     "data": {
      "image/png": "[encoded data removed]",
      "text/plain": [
       "<Figure size 640x480 with 1 Axes>"
      ]
     },
     "metadata": {},
     "output_type": "display_data"
    }
   ],
   "source": [
    "employee_compensation_data.total_salary.value_counts(bins=10).plot.barh()\n",
    "\n",
    "# add the labels "
   ]
  },
  {
   "cell_type": "markdown",
   "id": "wJmIGM4ihBlM",
   "metadata": {
    "id": "wJmIGM4ihBlM"
   },
   "source": [
    "**Checking the Outliers**"
   ]
  },
  {
   "cell_type": "markdown",
   "id": "RTRTRxoa1Lay",
   "metadata": {
    "id": "RTRTRxoa1Lay"
   },
   "source": [
    "**removing outliers for \"total salary\"**"
   ]
  },
  {
   "cell_type": "code",
   "execution_count": null,
   "id": "7gLMtXpxEms0",
   "metadata": {
    "colab": {
     "base_uri": "https://localhost:8080/",
     "height": 519
    },
    "executionInfo": {
     "elapsed": 1418,
     "status": "ok",
     "timestamp": 1681531241173,
     "user": {
      "displayName": "Srinu Venuvanka",
      "userId": "07818478530935474505"
     },
     "user_tz": 240
    },
    "id": "7gLMtXpxEms0",
    "outputId": "c10c5f30-2a71-4f70-d703-cc956c5c477d"
   },
   "outputs": [
    {
     "data": {
      "image/png": "[encoded data removed]",
      "text/plain": [
       "<Figure size 640x480 with 1 Axes>"
      ]
     },
     "metadata": {},
     "output_type": "display_data"
    }
   ],
   "source": [
    "employee_compensation_float = employee_compensation_data.loc[:, employee_compensation_data.dtypes == \"float\"]\n",
    "ax = employee_compensation_float.plot(kind='box', title='boxplot')\n",
    "ax.set_xticklabels(ax.get_xticklabels(),rotation=30)\n",
    "plt.show()"
   ]
  },
  {
   "cell_type": "code",
   "execution_count": 63,
   "id": "pzEtVDBeFtiI",
   "metadata": {
    "colab": {
     "base_uri": "https://localhost:8080/",
     "height": 519
    },
    "executionInfo": {
     "elapsed": 2031,
     "status": "ok",
     "timestamp": 1681531530469,
     "user": {
      "displayName": "Srinu Venuvanka",
      "userId": "07818478530935474505"
     },
     "user_tz": 240
    },
    "id": "pzEtVDBeFtiI",
    "outputId": "134f66e6-05a5-454d-ed61-5addfbc25c50"
   },
   "outputs": [
    {
     "data": {
      "image/png": "[encoded data removed]",
      "text/plain": [
       "<Figure size 640x480 with 1 Axes>"
      ]
     },
     "metadata": {},
     "output_type": "display_data"
    }
   ],
   "source": [
    "from scipy import stats\n",
    "\n",
    "# calculate z-scores for each column\n",
    "z_scores = stats.zscore(employee_compensation_data.loc[:, employee_compensation_data.dtypes == \"float\"])\n",
    "\n",
    "# find absolute z-scores greater than 3\n",
    "abs_z_scores = np.abs(z_scores)\n",
    "outliers = (abs_z_scores > 3).any(axis=1)\n",
    "\n",
    "# remove outliers from the dataframe\n",
    "employee_compensation_remove_outliers = employee_compensation_data[~outliers]\n",
    "\n",
    "ax = employee_compensation_remove_outliers.plot(kind='box', title='boxplot')\n",
    "ax.set_xticklabels(ax.get_xticklabels(),rotation=30)\n",
    "plt.show()"
   ]
  },
  {
   "cell_type": "code",
   "execution_count": 65,
   "id": "dRuqzE-pF0BL",
   "metadata": {
    "executionInfo": {
     "elapsed": 131,
     "status": "ok",
     "timestamp": 1681531606337,
     "user": {
      "displayName": "Srinu Venuvanka",
      "userId": "07818478530935474505"
     },
     "user_tz": 240
    },
    "id": "dRuqzE-pF0BL"
   },
   "outputs": [],
   "source": [
    "min_threshold, max_threshold = employee_compensation_data.total_salary.quantile([0.05, 0.90])"
   ]
  },
  {
   "cell_type": "code",
   "execution_count": 66,
   "id": "VnMy0dVJF64t",
   "metadata": {
    "executionInfo": {
     "elapsed": 125,
     "status": "ok",
     "timestamp": 1681531608927,
     "user": {
      "displayName": "Srinu Venuvanka",
      "userId": "07818478530935474505"
     },
     "user_tz": 240
    },
    "id": "VnMy0dVJF64t"
   },
   "outputs": [],
   "source": [
    "cleanned_data = employee_compensation_data[(employee_compensation_data.total_salary > min_threshold) & \n",
    "                                           (employee_compensation_data.total_salary < max_threshold)]"
   ]
  },
  {
   "cell_type": "code",
   "execution_count": 67,
   "id": "8IzCT7CSF7mP",
   "metadata": {
    "colab": {
     "base_uri": "https://localhost:8080/",
     "height": 428
    },
    "executionInfo": {
     "elapsed": 459,
     "status": "ok",
     "timestamp": 1681531610813,
     "user": {
      "displayName": "Srinu Venuvanka",
      "userId": "07818478530935474505"
     },
     "user_tz": 240
    },
    "id": "8IzCT7CSF7mP",
    "outputId": "7c659566-e6c3-42ab-bbdb-45ab1de58e0f"
   },
   "outputs": [
    {
     "data": {
      "text/plain": [
       "<Axes: ylabel='total_salary'>"
      ]
     },
     "execution_count": 67,
     "metadata": {},
     "output_type": "execute_result"
    },
    {
     "data": {
      "image/png": "[encoded data removed]",
      "text/plain": [
       "<Figure size 640x480 with 1 Axes>"
      ]
     },
     "metadata": {},
     "output_type": "display_data"
    }
   ],
   "source": [
    "sns.boxplot(data=cleanned_data, y=cleanned_data.total_salary)"
   ]
  },
  {
   "cell_type": "markdown",
   "id": "i5STkhGUeyYo",
   "metadata": {
    "id": "i5STkhGUeyYo"
   },
   "source": [
    "**Q1. Which organization group spending more time at work(overtime)?**"
   ]
  },
  {
   "cell_type": "code",
   "execution_count": null,
   "id": "73a4276e",
   "metadata": {
    "colab": {
     "base_uri": "https://localhost:8080/",
     "height": 466
    },
    "executionInfo": {
     "elapsed": 11881,
     "status": "ok",
     "timestamp": 1681523648434,
     "user": {
      "displayName": "Srinu Venuvanka",
      "userId": "07818478530935474505"
     },
     "user_tz": 240
    },
    "id": "73a4276e",
    "outputId": "ee7a0d63-7b48-4868-9a22-59396bbcfc83"
   },
   "outputs": [
    {
     "data": {
      "text/plain": [
       "<Axes: xlabel='overtime', ylabel='organization_group'>"
      ]
     },
     "execution_count": 45,
     "metadata": {},
     "output_type": "execute_result"
    },
    {
     "data": {
      "image/png": "[encoded data removed]",
      "text/plain": [
       "<Figure size 640x480 with 1 Axes>"
      ]
     },
     "metadata": {},
     "output_type": "display_data"
    }
   ],
   "source": [
    "sns.barplot(y=employee_compensation_data.organization_group, x=employee_compensation_data.overtime)"
   ]
  },
  {
   "cell_type": "markdown",
   "id": "cWjE-1ZZ2B-m",
   "metadata": {
    "id": "cWjE-1ZZ2B-m"
   },
   "source": [
    "From the analysis, we noted that the highest number of employees working overtime are belong to the Public Sector organization.\n",
    "\n",
    "We also noticed that there is a gradual increase in employees working overtime over the years with year 2022 showing a steep increase of 9000 hours across all organizations.\n"
   ]
  },
  {
   "cell_type": "markdown",
   "id": "VHf-du0Yep3z",
   "metadata": {
    "id": "VHf-du0Yep3z"
   },
   "source": [
    "**What factors contribute to the anomalies or discrepancies in the compensation structure?**"
   ]
  },
  {
   "cell_type": "markdown",
   "id": "3T1ZrENS2OOJ",
   "metadata": {
    "id": "3T1ZrENS2OOJ"
   },
   "source": []
  },
  {
   "cell_type": "code",
   "execution_count": null,
   "id": "5Uq6CurfeeKs",
   "metadata": {
    "colab": {
     "base_uri": "https://localhost:8080/",
     "height": 659
    },
    "executionInfo": {
     "elapsed": 467,
     "status": "ok",
     "timestamp": 1681523648882,
     "user": {
      "displayName": "Srinu Venuvanka",
      "userId": "07818478530935474505"
     },
     "user_tz": 240
    },
    "id": "5Uq6CurfeeKs",
    "outputId": "810c9c07-af0b-44fe-c249-dc06af767e7e"
   },
   "outputs": [
    {
     "data": {
      "image/png": "[encoded data removed]",
      "text/plain": [
       "<Figure size 640x480 with 1 Axes>"
      ]
     },
     "metadata": {},
     "output_type": "display_data"
    }
   ],
   "source": [
    "mean_compensation = employee_compensation_data.groupby('job_family')['total_compensation'].mean()\n",
    "\n",
    "# Compute the top factors contributing to the discrepancies in Total Compensation\n",
    "top_factors = (employee_compensation_data.groupby('job_family')['total_compensation'].std() / mean_compensation).nlargest(5)\n",
    "\n",
    "# Create a bar plot to visualize the top factors contributing to the discrepancies in Total Compensation\n",
    "plt.bar(top_factors.index, top_factors)\n",
    "plt.xticks(rotation=78)\n",
    "plt.xlabel('Job Family')\n",
    "plt.ylabel('Factor contributing to discrepancy in Total_Compensation')\n",
    "plt.title('Top factors contributing to the discrepancies in Total Compensation by Job Family')\n",
    "\n",
    "# Show the plot\n",
    "plt.show()"
   ]
  },
  {
   "cell_type": "markdown",
   "id": "cc02ce68",
   "metadata": {
    "id": "cc02ce68"
   },
   "source": [
    "#### Histogram of Salaries"
   ]
  },
  {
   "cell_type": "markdown",
   "id": "799c56c9",
   "metadata": {
    "id": "799c56c9"
   },
   "source": [
    "#### Boxplot of Total Compensation by Department"
   ]
  },
  {
   "cell_type": "markdown",
   "id": "5d2bbb0b",
   "metadata": {
    "id": "5d2bbb0b"
   },
   "source": [
    "#### **Q2. Does overtime increased or decreased irrespective of the job type in the given time period(2013-2022)**"
   ]
  },
  {
   "cell_type": "code",
   "execution_count": null,
   "id": "a3dc5eb1",
   "metadata": {
    "colab": {
     "base_uri": "https://localhost:8080/",
     "height": 466
    },
    "executionInfo": {
     "elapsed": 11124,
     "status": "ok",
     "timestamp": 1681523674542,
     "user": {
      "displayName": "Srinu Venuvanka",
      "userId": "07818478530935474505"
     },
     "user_tz": 240
    },
    "id": "a3dc5eb1",
    "outputId": "d1202034-579a-4396-82d8-b741b61d46bd"
   },
   "outputs": [
    {
     "data": {
      "text/plain": [
       "<Axes: xlabel='year', ylabel='overtime'>"
      ]
     },
     "execution_count": 48,
     "metadata": {},
     "output_type": "execute_result"
    },
    {
     "data": {
      "image/png": "[encoded data removed]",
      "text/plain": [
       "<Figure size 640x480 with 1 Axes>"
      ]
     },
     "metadata": {},
     "output_type": "display_data"
    }
   ],
   "source": [
    "sns.barplot(y= employee_compensation_data['overtime'], x= employee_compensation_data['year'])\n"
   ]
  },
  {
   "cell_type": "markdown",
   "id": "571b8472",
   "metadata": {
    "id": "571b8472"
   },
   "source": [
    "**Heatmap of Correlation Matrix**"
   ]
  },
  {
   "cell_type": "code",
   "execution_count": null,
   "id": "21bbab78",
   "metadata": {
    "colab": {
     "base_uri": "https://localhost:8080/",
     "height": 630
    },
    "executionInfo": {
     "elapsed": 888,
     "status": "ok",
     "timestamp": 1681523675427,
     "user": {
      "displayName": "Srinu Venuvanka",
      "userId": "07818478530935474505"
     },
     "user_tz": 240
    },
    "id": "21bbab78",
    "outputId": "93fb3ec4-ab4e-4f09-968d-e5a01c180253"
   },
   "outputs": [
    {
     "name": "stderr",
     "output_type": "stream",
     "text": [
      "<ipython-input-49-38fced66bbb4>:1: FutureWarning: The default value of numeric_only in DataFrame.corr is deprecated. In a future version, it will default to False. Select only valid columns or specify the value of numeric_only to silence this warning.\n",
      "  corr_matrix = employee_compensation_data.corr()\n"
     ]
    },
    {
     "data": {
      "image/png": "[encoded data removed]",
      "text/plain": [
       "<Figure size 640x480 with 2 Axes>"
      ]
     },
     "metadata": {},
     "output_type": "display_data"
    }
   ],
   "source": [
    "corr_matrix = employee_compensation_data.corr()\n",
    "sns.heatmap(corr_matrix, annot=True, cmap='YlGnBu')\n",
    "plt.title('Correlation Matrix')\n",
    "plt.show()\n"
   ]
  },
  {
   "cell_type": "markdown",
   "id": "21956fe5",
   "metadata": {
    "id": "21956fe5"
   },
   "source": [
    "#### Boxplot of total compensation by organization group"
   ]
  },
  {
   "cell_type": "code",
   "execution_count": null,
   "id": "dc6a29f2",
   "metadata": {
    "colab": {
     "base_uri": "https://localhost:8080/",
     "height": 472
    },
    "executionInfo": {
     "elapsed": 690,
     "status": "ok",
     "timestamp": 1681523676111,
     "user": {
      "displayName": "Srinu Venuvanka",
      "userId": "07818478530935474505"
     },
     "user_tz": 240
    },
    "id": "dc6a29f2",
    "outputId": "ed5f4e96-d790-47f8-a735-2f0f6aec09bc"
   },
   "outputs": [
    {
     "data": {
      "image/png": "[encoded data removed]",
      "text/plain": [
       "<Figure size 640x480 with 1 Axes>"
      ]
     },
     "metadata": {},
     "output_type": "display_data"
    }
   ],
   "source": [
    "# create boxplot\n",
    "sns.boxplot(y='organization_group', x='total_compensation', data=employee_compensation_data)\n",
    "\n",
    "# set axis labels and title\n",
    "plt.xlabel('Organization Group')\n",
    "plt.ylabel('Total Compensation')\n",
    "plt.title('Total Compensation by Organization Group')\n",
    "plt.show()\n"
   ]
  },
  {
   "cell_type": "markdown",
   "id": "d521f1fd",
   "metadata": {
    "id": "d521f1fd"
   },
   "source": [
    "**Is Salary Distribution/ benefits same across all the years? **bold text**\n",
    "\n",
    "Stacked bar chart of benefits by job family**\n",
    "stacked bar chart to compare the breakdown of different types of benefits (retirement, health and dental, other benefits) across different job families."
   ]
  },
  {
   "cell_type": "code",
   "execution_count": null,
   "id": "0f8304b0",
   "metadata": {
    "colab": {
     "base_uri": "https://localhost:8080/",
     "height": 472
    },
    "executionInfo": {
     "elapsed": 1747,
     "status": "ok",
     "timestamp": 1681525369094,
     "user": {
      "displayName": "Srinu Venuvanka",
      "userId": "07818478530935474505"
     },
     "user_tz": 240
    },
    "id": "0f8304b0",
    "outputId": "ca9f08af-2ddd-44b6-eda6-7da099c026cd"
   },
   "outputs": [
    {
     "data": {
      "image/png": "[encoded data removed]",
      "text/plain": [
       "<Figure size 640x480 with 1 Axes>"
      ]
     },
     "metadata": {},
     "output_type": "display_data"
    }
   ],
   "source": [
    "# create new dataframe with benefit columns\n",
    "benefits = employee_compensation_data[['year', 'retirement', 'health_and_dental', 'other_benefits']]\n",
    "\n",
    "# group by job family and sum the benefits\n",
    "benefits = benefits.groupby('year').sum()\n",
    "\n",
    "# create stacked bar chart\n",
    "benefits.plot(kind='barh', stacked=True)\n",
    "\n",
    "# set axis labels and title\n",
    "plt.xlabel('Benefits')\n",
    "plt.ylabel('year')\n",
    "plt.title('Benefits by Year')\n",
    "plt.show()\n"
   ]
  },
  {
   "cell_type": "markdown",
   "id": "9b70448e",
   "metadata": {
    "id": "9b70448e"
   },
   "source": [
    "# **Q3.Are employees getting paid for the amount of time and overtime what they are contributing towards their job?**"
   ]
  },
  {
   "cell_type": "code",
   "execution_count": null,
   "id": "9d002500",
   "metadata": {
    "colab": {
     "base_uri": "https://localhost:8080/",
     "height": 472
    },
    "executionInfo": {
     "elapsed": 205,
     "status": "ok",
     "timestamp": 1681523676640,
     "user": {
      "displayName": "Srinu Venuvanka",
      "userId": "07818478530935474505"
     },
     "user_tz": 240
    },
    "id": "9d002500",
    "outputId": "09148da5-4550-40b2-d9d5-6d8e1c71dc79"
   },
   "outputs": [
    {
     "data": {
      "image/png": "[encoded data removed]",
      "text/plain": [
       "<Figure size 640x480 with 1 Axes>"
      ]
     },
     "metadata": {},
     "output_type": "display_data"
    }
   ],
   "source": [
    "# create new dataframe with average compensation by year\n",
    "compensation_by_year = employee_compensation_data.groupby('year')['total_compensation'].mean().reset_index()\n",
    "healthben_by_year = employee_compensation_data.groupby('year')['health_and_dental'].mean().reset_index()\n",
    "# create line chart\n",
    "plt.plot(compensation_by_year['year'], compensation_by_year['total_compensation'])\n",
    "plt.plot(healthben_by_year['year'], healthben_by_year['health_and_dental'])\n",
    "# set axis labels and title\n",
    "plt.xlabel('Year')\n",
    "plt.ylabel('Average Total Compensation')\n",
    "plt.title('Average Total Compensation Over Time')\n",
    "plt.show()\n"
   ]
  },
  {
   "cell_type": "markdown",
   "id": "YB9956RO9qKm",
   "metadata": {
    "id": "YB9956RO9qKm"
   },
   "source": [
    "We see a gradual increase in the salary compensations of the employees in all departments in the years, however, from 2021 we see that the employees are receiving less salary compensations compared to the previous years which continues in the year 2022. \n",
    "\n",
    "This raises a concern since we see employees increasing their over time in the respective jobs but there is decrement in the salary compensations and benefits received. \n",
    "\n",
    "Many factors may have contributed to this issue.\n",
    "\n"
   ]
  },
  {
   "cell_type": "markdown",
   "id": "WVNeH0v1FwHG",
   "metadata": {
    "id": "WVNeH0v1FwHG"
   },
   "source": [
    "**Q2.Find the Employee Compensation in each Department in the San Francisco city**"
   ]
  },
  {
   "cell_type": "code",
   "execution_count": null,
   "id": "Oi-viw-M4ryG",
   "metadata": {
    "colab": {
     "base_uri": "https://localhost:8080/",
     "height": 509
    },
    "executionInfo": {
     "elapsed": 393,
     "status": "ok",
     "timestamp": 1681523677025,
     "user": {
      "displayName": "Srinu Venuvanka",
      "userId": "07818478530935474505"
     },
     "user_tz": 240
    },
    "id": "Oi-viw-M4ryG",
    "outputId": "cb4ee421-ed05-44bf-a5f4-e1b68ff1ac16"
   },
   "outputs": [
    {
     "name": "stderr",
     "output_type": "stream",
     "text": [
      "<ipython-input-53-96d9d829ef65>:20: FutureWarning: The frame.append method is deprecated and will be removed from pandas in a future version. Use pandas.concat instead.\n",
      "  df_dept = df_dept.append(test, ignore_index = True)\n"
     ]
    },
    {
     "data": {
      "image/png": "[encoded data removed]",
      "text/plain": [
       "<Figure size 640x480 with 1 Axes>"
      ]
     },
     "metadata": {},
     "output_type": "display_data"
    }
   ],
   "source": [
    "def my_autopct(pct):\n",
    "    return ('%.2f' % pct) if pct > 4 else ''\n",
    "\n",
    "\n",
    "# aggregate the data by department\n",
    "df_dept = employee_compensation_data.groupby('department').agg({'total_salary': 'sum'}).reset_index()\n",
    "\n",
    "# sort the data by total_payments\n",
    "df_dept = df_dept.sort_values(by='total_salary', ascending=False)\n",
    "\n",
    "# add a new column for the percentage of total_payments\n",
    "df_dept['percentage'] = df_dept['total_salary'] / df_dept['total_salary'].sum() * 100\n",
    "\n",
    "per = df_dept[df_dept.percentage < 4].percentage.sum()\n",
    "total_sal = df_dept[df_dept.percentage < 4].total_salary.sum()\n",
    "df_dept = df_dept[df_dept['percentage'] > 4]\n",
    "test = pd.DataFrame({\"department\":[\"Others\"],\n",
    "                    \"total_salary\":[total_sal],\n",
    "                    \"percentage\": [per]})\n",
    "df_dept = df_dept.append(test, ignore_index = True)\n",
    "\n",
    "# plot the pie chart for total payments\n",
    "plt.pie(df_dept['total_salary'], labels=df_dept['department'], autopct=my_autopct)\n",
    "#fig.set_title('Total Payments by Department')\n",
    "# add a common title\n",
    "plt.suptitle('Employee Compensation by Department', fontsize=16)\n",
    "\n",
    "# show the plot\n",
    "plt.show()\n"
   ]
  }
 ],
 "metadata": {
  "colab": {
   "provenance": [
    {
     "file_id": "1RVqaWGsf_UcuAIObxAhKk6_N2wCCGrFm",
     "timestamp": 1681532036458
    }
   ]
  },
  "kernelspec": {
   "display_name": "Python 3 (ipykernel)",
   "language": "python",
   "name": "python3"
  },
  "language_info": {
   "codemirror_mode": {
    "name": "ipython",
    "version": 3
   },
   "file_extension": ".py",
   "mimetype": "text/x-python",
   "name": "python",
   "nbconvert_exporter": "python",
   "pygments_lexer": "ipython3",
   "version": "3.9.13"
  }
 },
 "nbformat": 4,
 "nbformat_minor": 5
}
